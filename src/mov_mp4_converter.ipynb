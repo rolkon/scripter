{
 "cells": [
  {
   "cell_type": "markdown",
   "id": "0bd8d11c-c4df-481a-bc4a-61b877b4bf62",
   "metadata": {},
   "source": [
    "# MOV to MP4 converter\n",
    "\n",
    "Converts every MOV video file to MP4, with the specified audio signal"
   ]
  },
  {
   "cell_type": "code",
   "execution_count": null,
   "id": "482bd56e-848e-4e40-b461-54408b1636be",
   "metadata": {},
   "outputs": [],
   "source": [
    "import moviepy.editor as mp\n",
    "import numpy as np\n",
    "\n",
    "from utils import io_utils"
   ]
  },
  {
   "cell_type": "code",
   "execution_count": null,
   "id": "f3d88704-e1ef-432e-9e6b-2ec8ac11da4a",
   "metadata": {
    "scrolled": true,
    "tags": []
   },
   "outputs": [],
   "source": [
    "proj_tree = io_utils.ProjectTree('../projects')\n",
    "\n",
    "for project in proj_tree.get_projects():\n",
    "    video_src = project.get_media('video/mov/raw')\n",
    "    audio_src = project.get_media('audio/wav/mix/ch0_inv_ch1_added')\n",
    "    video_dst = project.make_media('video/mp4/raw')\n",
    "    \n",
    "    for video_src_path, audio_src_path, file_name in zip(video_src.get_file_paths(), audio_src.get_file_paths(), video_src.get_file_names()):\n",
    "        print('Converting video ' + video_src_path + '...')\n",
    "        \n",
    "        video_clip = mp.VideoFileClip(video_src_path)\n",
    "        audio_clip = mp.AudioFileClip(audio_src_path)\n",
    "        final_clip = video_clip.set_audio(audio_clip)\n",
    "    \n",
    "        final_clip.write_videofile(video_dst.get_root() + '/' + file_name + '.mp4', temp_audiofile='temp-audio.m4a', remove_temp=True, verbose=False, codec='libx264', audio_codec='aac')"
   ]
  }
 ],
 "metadata": {
  "kernelspec": {
   "display_name": "Python 3",
   "language": "python",
   "name": "python3"
  },
  "language_info": {
   "codemirror_mode": {
    "name": "ipython",
    "version": 3
   },
   "file_extension": ".py",
   "mimetype": "text/x-python",
   "name": "python",
   "nbconvert_exporter": "python",
   "pygments_lexer": "ipython3",
   "version": "3.6.12"
  }
 },
 "nbformat": 4,
 "nbformat_minor": 5
}

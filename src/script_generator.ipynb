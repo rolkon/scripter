{
 "cells": [
  {
   "cell_type": "markdown",
   "id": "ad8765fc-1c74-47b2-9c89-51965fd00aec",
   "metadata": {},
   "source": [
    "# Script generator\n",
    "\n",
    "Takes separated audio channels and generates a time-stamped script"
   ]
  },
  {
   "cell_type": "code",
   "execution_count": null,
   "id": "b07469ca-bc4a-4bb3-acab-9e2aa85a0b4b",
   "metadata": {},
   "outputs": [],
   "source": [
    "import wave\n",
    "import json\n",
    "import numpy as np\n",
    "\n",
    "from vosk import Model, KaldiRecognizer, SetLogLevel\n",
    "from utils import Word as custom_Word\n",
    "\n",
    "from utils import io_utils"
   ]
  },
  {
   "cell_type": "code",
   "execution_count": null,
   "id": "889c4cc7-8ff4-4182-ac25-a369513275da",
   "metadata": {},
   "outputs": [],
   "source": [
    "model = Model('models/vosk-model-en-us-0.22')"
   ]
  },
  {
   "cell_type": "code",
   "execution_count": null,
   "id": "bfd62506-fb74-4901-bc00-78608aea13bd",
   "metadata": {},
   "outputs": [],
   "source": [
    "proj_tree = io_utils.ProjectTree('../projects')\n",
    "\n",
    "for project in proj_tree.get_projects():\n",
    "    audio_src = project.get_media('audio/wav/mix/ch0_inv_ch1_added')\n",
    "    script_csv_dst = project.make_media('script/full/csv')\n",
    "    #script_txt_dst = project.make_media('script/full/txt')\n",
    "    \n",
    "    print(project.get_name() + ':')\n",
    "    \n",
    "    for audio_src_path, file_name in zip(audio_src.get_file_paths(), audio_src.get_file_names()):\n",
    "        print('\\tGenerating script for ' + audio_src_path + '...')\n",
    "        \n",
    "        wav = wave.open(audio_src_path)\n",
    "        rec = KaldiRecognizer(model, wav.getframerate())\n",
    "        rec.SetWords(True)\n",
    "        \n",
    "        results = []\n",
    "        \n",
    "        while True:\n",
    "            data = wav.readframes(4000)\n",
    "            if len(data) == 0:\n",
    "                break\n",
    "            if rec.AcceptWaveform(data):\n",
    "                part_result = json.loads(rec.Result())\n",
    "                results.append(part_result)\n",
    "                \n",
    "        part_result = json.loads(rec.FinalResult())\n",
    "        results.append(part_result)\n",
    "        \n",
    "        word_array = np.array(['word', 't_start', 't_stop', 'conf'])\n",
    "        \n",
    "        for sentence in results:\n",
    "            # sometimes returns empty dictionary {'text': ''}, account for that\n",
    "            if len(sentence) == 1:\n",
    "                continue\n",
    "            \n",
    "            for obj in sentence['result']:\n",
    "                word = custom_Word.Word(obj)\n",
    "                word_array = np.vstack((word_array, word.to_numpy_array()))\n",
    "                \n",
    "        np.savetxt(script_csv_dst.get_root() + '/' + file_name + '.csv', word_array, fmt='%s', delimiter=',')"
   ]
  }
 ],
 "metadata": {
  "kernelspec": {
   "display_name": "Python 3",
   "language": "python",
   "name": "python3"
  },
  "language_info": {
   "codemirror_mode": {
    "name": "ipython",
    "version": 3
   },
   "file_extension": ".py",
   "mimetype": "text/x-python",
   "name": "python",
   "nbconvert_exporter": "python",
   "pygments_lexer": "ipython3",
   "version": "3.6.12"
  }
 },
 "nbformat": 4,
 "nbformat_minor": 5
}

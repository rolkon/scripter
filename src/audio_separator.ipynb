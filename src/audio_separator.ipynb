{
 "cells": [
  {
   "cell_type": "markdown",
   "id": "c30aeb43-094e-4f8d-98ed-e6b40ce64c06",
   "metadata": {},
   "source": [
    "# Audio Separator\n",
    "\n",
    "Takes raw video files, isolates the audio channels and saves them in various formats\n",
    "* ch0 isolated\n",
    "* ch1 isolated\n",
    "* ch0 inverted + channel 1 added\n",
    "* ch1 inverted + channel 0 added"
   ]
  },
  {
   "cell_type": "code",
   "execution_count": null,
   "id": "2f01ceaf-f45f-4099-83cb-08d73eab3d27",
   "metadata": {},
   "outputs": [],
   "source": [
    "import moviepy.editor as mp\n",
    "import wave\n",
    "import numpy as np\n",
    "\n",
    "from utils import io_utils\n",
    "\n",
    "import os"
   ]
  },
  {
   "cell_type": "markdown",
   "id": "780b867c-2a71-4395-bd75-7bba1f819d74",
   "metadata": {},
   "source": [
    "### Extract and isolate audio tracks from video"
   ]
  },
  {
   "cell_type": "code",
   "execution_count": null,
   "id": "efd066e5-0243-45c7-9ab6-8a03703be150",
   "metadata": {
    "scrolled": true,
    "tags": []
   },
   "outputs": [],
   "source": [
    "proj_tree = io_utils.ProjectTree('../projects')\n",
    "\n",
    "for project in proj_tree.get_projects():\n",
    "    video_src = project.get_media('video/mov/raw')\n",
    "    audio_dst = project.make_media('audio/wav')\n",
    "        \n",
    "    for video_src_path, file_name in zip(video_src.get_file_paths(), video_src.get_file_names()):\n",
    "        print('Extracting audio from ' + video_src_path + '...')\n",
    "        \n",
    "        clip = mp.VideoFileClip(video_src_path)\n",
    "        clip.audio.write_audiofile(audio_dst.get_root() + '/' + file_name + '.wav', codec='pcm_s16le')\n",
    "        \n",
    "        # channel separation code from\n",
    "        # https://stackoverflow.com/questions/51275725/how-do-you-separate-each-channel-of-a-two-channel-wav-file-into-two-different-fi\n",
    "        wav = wave.open(audio_dst.get_root() + '/' + file_name + '.wav', 'r')\n",
    "        nch = wav.getnchannels()\n",
    "        depth = wav.getsampwidth()\n",
    "        wav.setpos(0)\n",
    "        sdata = wav.readframes(wav.getnframes())\n",
    "\n",
    "        typ = { 1: np.int8, 2: np.int16, 4: np.int32 }.get(depth)\n",
    "        if not typ:\n",
    "            raise ValueError(\"sample width {} not supported\".format(depth))\n",
    "            \n",
    "        data = np.frombuffer(sdata, dtype=typ)\n",
    "        channels_data = [data[raw_channel::nch] for raw_channel in range(nch)]\n",
    "        raw_audio_channels_dst = [audio_dst.make_media('raw/ch{}'.format(raw_channel)) for raw_channel in range(nch)]\n",
    "        \n",
    "        for channel, (channel_data, raw_audio_channel_dst) in enumerate(zip(channels_data, raw_audio_channels_dst)):\n",
    "            print(\"\\tExtracting channel {} out of {} channels, {}-bit depth\".format(channel+1, nch, depth*8))\n",
    "            \n",
    "            outwav = wave.open(raw_audio_channel_dst.get_root() + '/' + file_name + '.wav', 'w')\n",
    "            outwav.setparams(wav.getparams())\n",
    "            outwav.setnchannels(1)\n",
    "            outwav.writeframes(channel_data.tostring())\n",
    "            outwav.close()\n",
    "            \n",
    "        #mixing channels\n",
    "        mix_audio_channels_dst = [audio_dst.make_media(mix_channel) for mix_channel in ['mix/ch0_inv_ch1_added', 'mix/ch1_inv_ch0_added']]\n",
    "        \n",
    "        for inv_channel, (channel_data, mix_audio_channel_dst) in enumerate(zip(channels_data, mix_audio_channels_dst)):\n",
    "            print(\"\\tMixing inverted channel {} and channel {}\".format(inv_channel, (inv_channel+1)%2))\n",
    "                  \n",
    "            mixed_audio = np.add((-1)*channels_data[inv_channel], channels_data[(inv_channel+1)%2])\n",
    "            \n",
    "            outwav = wave.open(mix_audio_channel_dst.get_root() + '/' + file_name + '.wav', 'w')\n",
    "            outwav.setparams(wav.getparams())\n",
    "            outwav.setnchannels(1)\n",
    "            outwav.writeframes(mixed_audio.tostring())\n",
    "            outwav.close()\n",
    "            \n",
    "        #remove extracted audio, only save separated channels\n",
    "        os.remove(audio_dst.get_root() + '/' + file_name + '.wav')"
   ]
  }
 ],
 "metadata": {
  "kernelspec": {
   "display_name": "Python 3",
   "language": "python",
   "name": "python3"
  },
  "language_info": {
   "codemirror_mode": {
    "name": "ipython",
    "version": 3
   },
   "file_extension": ".py",
   "mimetype": "text/x-python",
   "name": "python",
   "nbconvert_exporter": "python",
   "pygments_lexer": "ipython3",
   "version": "3.6.12"
  }
 },
 "nbformat": 4,
 "nbformat_minor": 5
}

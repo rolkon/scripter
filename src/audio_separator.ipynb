{
 "cells": [
  {
   "cell_type": "markdown",
   "id": "c30aeb43-094e-4f8d-98ed-e6b40ce64c06",
   "metadata": {},
   "source": [
    "# Audio Separator\n",
    "\n",
    "Takes raw video files, isolates the audio channels and saves them in various formats\n",
    "* ch0 isolated\n",
    "* ch1 isolated\n",
    "* ch0 inverted + channel 1 added\n",
    "* ch1 inverted + channel 0 added"
   ]
  },
  {
   "cell_type": "code",
   "execution_count": 8,
   "id": "2f01ceaf-f45f-4099-83cb-08d73eab3d27",
   "metadata": {},
   "outputs": [],
   "source": [
    "import moviepy.editor as mp\n",
    "import wave\n",
    "import numpy as np\n",
    "\n",
    "from utils import io_utils\n",
    "\n",
    "import os"
   ]
  },
  {
   "cell_type": "markdown",
   "id": "780b867c-2a71-4395-bd75-7bba1f819d74",
   "metadata": {},
   "source": [
    "### Extract and isolate audio tracks from video"
   ]
  },
  {
   "cell_type": "code",
   "execution_count": 19,
   "id": "efd066e5-0243-45c7-9ab6-8a03703be150",
   "metadata": {
    "scrolled": true,
    "tags": []
   },
   "outputs": [
    {
     "name": "stdout",
     "output_type": "stream",
     "text": [
      "Extracting audio from /Users/rkonlechner/Media/scripter/projects/2022-01-09_uos/video/mov/raw/2022-01-09_17h52m15s.mov...\n",
      "MoviePy - Writing audio in /Users/rkonlechner/Media/scripter/projects/2022-01-09_uos/audio/wav/2022-01-09_17h52m15s.wav\n"
     ]
    },
    {
     "name": "stderr",
     "output_type": "stream",
     "text": [
      "                                                                                \r"
     ]
    },
    {
     "name": "stdout",
     "output_type": "stream",
     "text": [
      "MoviePy - Done.\n",
      "\tExtracting channel 1 out of 2 channels, 16-bit depth\n",
      "\tExtracting channel 2 out of 2 channels, 16-bit depth\n",
      "\tMixing inverted channel 0 and channel 1\n",
      "\tMixing inverted channel 1 and channel 0\n",
      "Extracting audio from /Users/rkonlechner/Media/scripter/projects/2022-01-09_uos/video/mov/raw/2022-01-09_17h56m42s.mov...\n",
      "MoviePy - Writing audio in /Users/rkonlechner/Media/scripter/projects/2022-01-09_uos/audio/wav/2022-01-09_17h56m42s.wav\n"
     ]
    },
    {
     "name": "stderr",
     "output_type": "stream",
     "text": [
      "                                                                                \r"
     ]
    },
    {
     "name": "stdout",
     "output_type": "stream",
     "text": [
      "MoviePy - Done.\n",
      "\tExtracting channel 1 out of 2 channels, 16-bit depth\n",
      "\tExtracting channel 2 out of 2 channels, 16-bit depth\n",
      "\tMixing inverted channel 0 and channel 1\n",
      "\tMixing inverted channel 1 and channel 0\n",
      "Extracting audio from /Users/rkonlechner/Media/scripter/projects/2022-01-14_uos/video/mov/raw/2022-01-14_12h17m03s.mov...\n",
      "MoviePy - Writing audio in /Users/rkonlechner/Media/scripter/projects/2022-01-14_uos/audio/wav/2022-01-14_12h17m03s.wav\n"
     ]
    },
    {
     "name": "stderr",
     "output_type": "stream",
     "text": [
      "                                                                                \r"
     ]
    },
    {
     "name": "stdout",
     "output_type": "stream",
     "text": [
      "MoviePy - Done.\n",
      "\tExtracting channel 1 out of 2 channels, 16-bit depth\n",
      "\tExtracting channel 2 out of 2 channels, 16-bit depth\n",
      "\tMixing inverted channel 0 and channel 1\n",
      "\tMixing inverted channel 1 and channel 0\n",
      "Extracting audio from /Users/rkonlechner/Media/scripter/projects/2022-01-14_uos/video/mov/raw/2022-01-14_12h18m14s.mov...\n",
      "MoviePy - Writing audio in /Users/rkonlechner/Media/scripter/projects/2022-01-14_uos/audio/wav/2022-01-14_12h18m14s.wav\n"
     ]
    },
    {
     "name": "stderr",
     "output_type": "stream",
     "text": [
      "                                                                                \r"
     ]
    },
    {
     "name": "stdout",
     "output_type": "stream",
     "text": [
      "MoviePy - Done.\n",
      "\tExtracting channel 1 out of 2 channels, 16-bit depth\n",
      "\tExtracting channel 2 out of 2 channels, 16-bit depth\n",
      "\tMixing inverted channel 0 and channel 1\n",
      "\tMixing inverted channel 1 and channel 0\n",
      "Extracting audio from /Users/rkonlechner/Media/scripter/projects/2022-01-14_uos/video/mov/raw/2022-01-14_12h20m50s.mov...\n",
      "MoviePy - Writing audio in /Users/rkonlechner/Media/scripter/projects/2022-01-14_uos/audio/wav/2022-01-14_12h20m50s.wav\n"
     ]
    },
    {
     "name": "stderr",
     "output_type": "stream",
     "text": [
      "                                                                                "
     ]
    },
    {
     "name": "stdout",
     "output_type": "stream",
     "text": [
      "MoviePy - Done.\n",
      "\tExtracting channel 1 out of 2 channels, 16-bit depth\n",
      "\tExtracting channel 2 out of 2 channels, 16-bit depth\n",
      "\tMixing inverted channel 0 and channel 1\n",
      "\tMixing inverted channel 1 and channel 0\n",
      "Extracting audio from /Users/rkonlechner/Media/scripter/projects/2022-01-14_uos/video/mov/raw/2022-01-14_12h22m40s.mov...\n"
     ]
    },
    {
     "name": "stderr",
     "output_type": "stream",
     "text": [
      "\r"
     ]
    },
    {
     "name": "stdout",
     "output_type": "stream",
     "text": [
      "MoviePy - Writing audio in /Users/rkonlechner/Media/scripter/projects/2022-01-14_uos/audio/wav/2022-01-14_12h22m40s.wav\n"
     ]
    },
    {
     "name": "stderr",
     "output_type": "stream",
     "text": [
      "                                                                                "
     ]
    },
    {
     "name": "stdout",
     "output_type": "stream",
     "text": [
      "MoviePy - Done.\n",
      "\tExtracting channel 1 out of 2 channels, 16-bit depth\n",
      "\tExtracting channel 2 out of 2 channels, 16-bit depth\n",
      "\tMixing inverted channel 0 and channel 1\n",
      "\tMixing inverted channel 1 and channel 0\n",
      "Extracting audio from /Users/rkonlechner/Media/scripter/projects/2022-01-14_uos/video/mov/raw/2022-01-14_12h33m48s.mov...\n"
     ]
    },
    {
     "name": "stderr",
     "output_type": "stream",
     "text": [
      "\r"
     ]
    },
    {
     "name": "stdout",
     "output_type": "stream",
     "text": [
      "MoviePy - Writing audio in /Users/rkonlechner/Media/scripter/projects/2022-01-14_uos/audio/wav/2022-01-14_12h33m48s.wav\n"
     ]
    },
    {
     "name": "stderr",
     "output_type": "stream",
     "text": [
      "                                                                                "
     ]
    },
    {
     "name": "stdout",
     "output_type": "stream",
     "text": [
      "MoviePy - Done.\n",
      "\tExtracting channel 1 out of 2 channels, 16-bit depth\n",
      "\tExtracting channel 2 out of 2 channels, 16-bit depth\n",
      "\tMixing inverted channel 0 and channel 1\n",
      "\tMixing inverted channel 1 and channel 0\n",
      "Extracting audio from /Users/rkonlechner/Media/scripter/projects/2022-01-14_uos/video/mov/raw/2022-01-14_12h34m14s.mov...\n"
     ]
    },
    {
     "name": "stderr",
     "output_type": "stream",
     "text": [
      "\r"
     ]
    },
    {
     "name": "stdout",
     "output_type": "stream",
     "text": [
      "MoviePy - Writing audio in /Users/rkonlechner/Media/scripter/projects/2022-01-14_uos/audio/wav/2022-01-14_12h34m14s.wav\n"
     ]
    },
    {
     "name": "stderr",
     "output_type": "stream",
     "text": [
      "                                                                                "
     ]
    },
    {
     "name": "stdout",
     "output_type": "stream",
     "text": [
      "MoviePy - Done.\n",
      "\tExtracting channel 1 out of 2 channels, 16-bit depth\n",
      "\tExtracting channel 2 out of 2 channels, 16-bit depth\n",
      "\tMixing inverted channel 0 and channel 1\n",
      "\tMixing inverted channel 1 and channel 0\n",
      "Extracting audio from /Users/rkonlechner/Media/scripter/projects/2022-01-14_uos/video/mov/raw/2022-01-14_12h36m09s.mov...\n"
     ]
    },
    {
     "name": "stderr",
     "output_type": "stream",
     "text": [
      "\r"
     ]
    },
    {
     "name": "stdout",
     "output_type": "stream",
     "text": [
      "MoviePy - Writing audio in /Users/rkonlechner/Media/scripter/projects/2022-01-14_uos/audio/wav/2022-01-14_12h36m09s.wav\n"
     ]
    },
    {
     "name": "stderr",
     "output_type": "stream",
     "text": [
      "                                                                                \r"
     ]
    },
    {
     "name": "stdout",
     "output_type": "stream",
     "text": [
      "MoviePy - Done.\n",
      "\tExtracting channel 1 out of 2 channels, 16-bit depth\n",
      "\tExtracting channel 2 out of 2 channels, 16-bit depth\n",
      "\tMixing inverted channel 0 and channel 1\n",
      "\tMixing inverted channel 1 and channel 0\n",
      "Extracting audio from /Users/rkonlechner/Media/scripter/projects/2022-01-14_uos/video/mov/raw/2022-01-14_12h41m46s.mov...\n",
      "MoviePy - Writing audio in /Users/rkonlechner/Media/scripter/projects/2022-01-14_uos/audio/wav/2022-01-14_12h41m46s.wav\n"
     ]
    },
    {
     "name": "stderr",
     "output_type": "stream",
     "text": [
      "                                                                                "
     ]
    },
    {
     "name": "stdout",
     "output_type": "stream",
     "text": [
      "MoviePy - Done.\n",
      "\tExtracting channel 1 out of 2 channels, 16-bit depth\n",
      "\tExtracting channel 2 out of 2 channels, 16-bit depth\n",
      "\tMixing inverted channel 0 and channel 1\n",
      "\tMixing inverted channel 1 and channel 0\n",
      "Extracting audio from /Users/rkonlechner/Media/scripter/projects/2022-01-14_uos/video/mov/raw/2022-01-14_12h44m40s.mov...\n"
     ]
    },
    {
     "name": "stderr",
     "output_type": "stream",
     "text": [
      "\r"
     ]
    },
    {
     "name": "stdout",
     "output_type": "stream",
     "text": [
      "MoviePy - Writing audio in /Users/rkonlechner/Media/scripter/projects/2022-01-14_uos/audio/wav/2022-01-14_12h44m40s.wav\n"
     ]
    },
    {
     "name": "stderr",
     "output_type": "stream",
     "text": [
      "                                                                                \r"
     ]
    },
    {
     "name": "stdout",
     "output_type": "stream",
     "text": [
      "MoviePy - Done.\n",
      "\tExtracting channel 1 out of 2 channels, 16-bit depth\n",
      "\tExtracting channel 2 out of 2 channels, 16-bit depth\n",
      "\tMixing inverted channel 0 and channel 1\n",
      "\tMixing inverted channel 1 and channel 0\n",
      "Extracting audio from /Users/rkonlechner/Media/scripter/projects/2022-01-14_uos/video/mov/raw/2022-01-14_12h49m08s.mov...\n",
      "MoviePy - Writing audio in /Users/rkonlechner/Media/scripter/projects/2022-01-14_uos/audio/wav/2022-01-14_12h49m08s.wav\n"
     ]
    },
    {
     "name": "stderr",
     "output_type": "stream",
     "text": [
      "                                                                                \r"
     ]
    },
    {
     "name": "stdout",
     "output_type": "stream",
     "text": [
      "MoviePy - Done.\n",
      "\tExtracting channel 1 out of 2 channels, 16-bit depth\n",
      "\tExtracting channel 2 out of 2 channels, 16-bit depth\n",
      "\tMixing inverted channel 0 and channel 1\n",
      "\tMixing inverted channel 1 and channel 0\n",
      "Extracting audio from /Users/rkonlechner/Media/scripter/projects/2022-01-14_uos/video/mov/raw/2022-01-14_12h59m41s.mov...\n",
      "MoviePy - Writing audio in /Users/rkonlechner/Media/scripter/projects/2022-01-14_uos/audio/wav/2022-01-14_12h59m41s.wav\n"
     ]
    },
    {
     "name": "stderr",
     "output_type": "stream",
     "text": [
      "                                                                                \r"
     ]
    },
    {
     "name": "stdout",
     "output_type": "stream",
     "text": [
      "MoviePy - Done.\n",
      "\tExtracting channel 1 out of 2 channels, 16-bit depth\n",
      "\tExtracting channel 2 out of 2 channels, 16-bit depth\n",
      "\tMixing inverted channel 0 and channel 1\n",
      "\tMixing inverted channel 1 and channel 0\n",
      "Extracting audio from /Users/rkonlechner/Media/scripter/projects/2022-01-14_uos/video/mov/raw/2022-01-14_13h11m26s.mov...\n",
      "MoviePy - Writing audio in /Users/rkonlechner/Media/scripter/projects/2022-01-14_uos/audio/wav/2022-01-14_13h11m26s.wav\n"
     ]
    },
    {
     "name": "stderr",
     "output_type": "stream",
     "text": [
      "                                                                                "
     ]
    },
    {
     "name": "stdout",
     "output_type": "stream",
     "text": [
      "MoviePy - Done.\n",
      "\tExtracting channel 1 out of 2 channels, 16-bit depth\n",
      "\tExtracting channel 2 out of 2 channels, 16-bit depth\n",
      "\tMixing inverted channel 0 and channel 1\n",
      "\tMixing inverted channel 1 and channel 0\n",
      "Extracting audio from /Users/rkonlechner/Media/scripter/projects/2022-01-14_uos/video/mov/raw/2022-01-14_13h13m09s.mov...\n"
     ]
    },
    {
     "name": "stderr",
     "output_type": "stream",
     "text": [
      "\r"
     ]
    },
    {
     "name": "stdout",
     "output_type": "stream",
     "text": [
      "MoviePy - Writing audio in /Users/rkonlechner/Media/scripter/projects/2022-01-14_uos/audio/wav/2022-01-14_13h13m09s.wav\n"
     ]
    },
    {
     "name": "stderr",
     "output_type": "stream",
     "text": [
      "                                                                                \r"
     ]
    },
    {
     "name": "stdout",
     "output_type": "stream",
     "text": [
      "MoviePy - Done.\n",
      "\tExtracting channel 1 out of 2 channels, 16-bit depth\n",
      "\tExtracting channel 2 out of 2 channels, 16-bit depth\n",
      "\tMixing inverted channel 0 and channel 1\n",
      "\tMixing inverted channel 1 and channel 0\n",
      "Extracting audio from /Users/rkonlechner/Media/scripter/projects/2022-01-14_uos/video/mov/raw/2022-01-14_13h19m14s.mov...\n",
      "MoviePy - Writing audio in /Users/rkonlechner/Media/scripter/projects/2022-01-14_uos/audio/wav/2022-01-14_13h19m14s.wav\n"
     ]
    },
    {
     "name": "stderr",
     "output_type": "stream",
     "text": [
      "                                                                                "
     ]
    },
    {
     "name": "stdout",
     "output_type": "stream",
     "text": [
      "MoviePy - Done.\n",
      "\tExtracting channel 1 out of 2 channels, 16-bit depth\n",
      "\tExtracting channel 2 out of 2 channels, 16-bit depth\n",
      "\tMixing inverted channel 0 and channel 1\n",
      "\tMixing inverted channel 1 and channel 0\n",
      "Extracting audio from /Users/rkonlechner/Media/scripter/projects/2022-01-14_uos/video/mov/raw/2022-01-14_13h34m48s.mov...\n"
     ]
    },
    {
     "name": "stderr",
     "output_type": "stream",
     "text": [
      "\r"
     ]
    },
    {
     "name": "stdout",
     "output_type": "stream",
     "text": [
      "MoviePy - Writing audio in /Users/rkonlechner/Media/scripter/projects/2022-01-14_uos/audio/wav/2022-01-14_13h34m48s.wav\n"
     ]
    },
    {
     "name": "stderr",
     "output_type": "stream",
     "text": [
      "                                                                                \r"
     ]
    },
    {
     "name": "stdout",
     "output_type": "stream",
     "text": [
      "MoviePy - Done.\n",
      "\tExtracting channel 1 out of 2 channels, 16-bit depth\n",
      "\tExtracting channel 2 out of 2 channels, 16-bit depth\n",
      "\tMixing inverted channel 0 and channel 1\n",
      "\tMixing inverted channel 1 and channel 0\n",
      "Extracting audio from /Users/rkonlechner/Media/scripter/projects/2022-01-14_uos/video/mov/raw/2022-01-14_13h37m04s.mov...\n",
      "MoviePy - Writing audio in /Users/rkonlechner/Media/scripter/projects/2022-01-14_uos/audio/wav/2022-01-14_13h37m04s.wav\n"
     ]
    },
    {
     "name": "stderr",
     "output_type": "stream",
     "text": [
      "                                                                                "
     ]
    },
    {
     "name": "stdout",
     "output_type": "stream",
     "text": [
      "MoviePy - Done.\n",
      "\tExtracting channel 1 out of 2 channels, 16-bit depth\n",
      "\tExtracting channel 2 out of 2 channels, 16-bit depth\n",
      "\tMixing inverted channel 0 and channel 1\n",
      "\tMixing inverted channel 1 and channel 0\n",
      "Extracting audio from /Users/rkonlechner/Media/scripter/projects/2022-01-14_uos/video/mov/raw/2022-01-14_13h38m13s.mov...\n"
     ]
    },
    {
     "name": "stderr",
     "output_type": "stream",
     "text": [
      "\r"
     ]
    },
    {
     "name": "stdout",
     "output_type": "stream",
     "text": [
      "MoviePy - Writing audio in /Users/rkonlechner/Media/scripter/projects/2022-01-14_uos/audio/wav/2022-01-14_13h38m13s.wav\n"
     ]
    },
    {
     "name": "stderr",
     "output_type": "stream",
     "text": [
      "                                                                                "
     ]
    },
    {
     "name": "stdout",
     "output_type": "stream",
     "text": [
      "MoviePy - Done.\n",
      "\tExtracting channel 1 out of 2 channels, 16-bit depth\n",
      "\tExtracting channel 2 out of 2 channels, 16-bit depth\n",
      "\tMixing inverted channel 0 and channel 1\n",
      "\tMixing inverted channel 1 and channel 0\n",
      "Extracting audio from /Users/rkonlechner/Media/scripter/projects/2022-01-14_uos/video/mov/raw/2022-01-14_13h39m04s.mov...\n"
     ]
    },
    {
     "name": "stderr",
     "output_type": "stream",
     "text": [
      "\r"
     ]
    },
    {
     "name": "stdout",
     "output_type": "stream",
     "text": [
      "MoviePy - Writing audio in /Users/rkonlechner/Media/scripter/projects/2022-01-14_uos/audio/wav/2022-01-14_13h39m04s.wav\n"
     ]
    },
    {
     "name": "stderr",
     "output_type": "stream",
     "text": [
      "                                                                                "
     ]
    },
    {
     "name": "stdout",
     "output_type": "stream",
     "text": [
      "MoviePy - Done.\n",
      "\tExtracting channel 1 out of 2 channels, 16-bit depth\n",
      "\tExtracting channel 2 out of 2 channels, 16-bit depth\n",
      "\tMixing inverted channel 0 and channel 1\n",
      "\tMixing inverted channel 1 and channel 0\n",
      "Extracting audio from /Users/rkonlechner/Media/scripter/projects/2022-01-14_uos/video/mov/raw/2022-01-14_13h41m49s.mov...\n"
     ]
    },
    {
     "name": "stderr",
     "output_type": "stream",
     "text": [
      "\r"
     ]
    },
    {
     "name": "stdout",
     "output_type": "stream",
     "text": [
      "MoviePy - Writing audio in /Users/rkonlechner/Media/scripter/projects/2022-01-14_uos/audio/wav/2022-01-14_13h41m49s.wav\n"
     ]
    },
    {
     "name": "stderr",
     "output_type": "stream",
     "text": [
      "                                                                                \r"
     ]
    },
    {
     "name": "stdout",
     "output_type": "stream",
     "text": [
      "MoviePy - Done.\n",
      "\tExtracting channel 1 out of 2 channels, 16-bit depth\n",
      "\tExtracting channel 2 out of 2 channels, 16-bit depth\n",
      "\tMixing inverted channel 0 and channel 1\n",
      "\tMixing inverted channel 1 and channel 0\n",
      "Extracting audio from /Users/rkonlechner/Media/scripter/projects/2022-01-14_uos/video/mov/raw/2022-01-14_13h43m00s.mov...\n",
      "MoviePy - Writing audio in /Users/rkonlechner/Media/scripter/projects/2022-01-14_uos/audio/wav/2022-01-14_13h43m00s.wav\n"
     ]
    },
    {
     "name": "stderr",
     "output_type": "stream",
     "text": [
      "                                                                                \r"
     ]
    },
    {
     "name": "stdout",
     "output_type": "stream",
     "text": [
      "MoviePy - Done.\n",
      "\tExtracting channel 1 out of 2 channels, 16-bit depth\n",
      "\tExtracting channel 2 out of 2 channels, 16-bit depth\n",
      "\tMixing inverted channel 0 and channel 1\n",
      "\tMixing inverted channel 1 and channel 0\n",
      "Extracting audio from /Users/rkonlechner/Media/scripter/projects/2022-01-14_uos/video/mov/raw/2022-01-14_13h43m56s.mov...\n",
      "MoviePy - Writing audio in /Users/rkonlechner/Media/scripter/projects/2022-01-14_uos/audio/wav/2022-01-14_13h43m56s.wav\n"
     ]
    },
    {
     "name": "stderr",
     "output_type": "stream",
     "text": [
      "                                                                                "
     ]
    },
    {
     "name": "stdout",
     "output_type": "stream",
     "text": [
      "MoviePy - Done.\n",
      "\tExtracting channel 1 out of 2 channels, 16-bit depth\n",
      "\tExtracting channel 2 out of 2 channels, 16-bit depth\n",
      "\tMixing inverted channel 0 and channel 1\n",
      "\tMixing inverted channel 1 and channel 0\n",
      "Extracting audio from /Users/rkonlechner/Media/scripter/projects/2022-01-14_uos/video/mov/raw/2022-01-14_13h44m28s.mov...\n"
     ]
    },
    {
     "name": "stderr",
     "output_type": "stream",
     "text": [
      "\r"
     ]
    },
    {
     "name": "stdout",
     "output_type": "stream",
     "text": [
      "MoviePy - Writing audio in /Users/rkonlechner/Media/scripter/projects/2022-01-14_uos/audio/wav/2022-01-14_13h44m28s.wav\n"
     ]
    },
    {
     "name": "stderr",
     "output_type": "stream",
     "text": [
      "                                                                                "
     ]
    },
    {
     "name": "stdout",
     "output_type": "stream",
     "text": [
      "MoviePy - Done.\n",
      "\tExtracting channel 1 out of 2 channels, 16-bit depth\n",
      "\tExtracting channel 2 out of 2 channels, 16-bit depth\n",
      "\tMixing inverted channel 0 and channel 1\n",
      "\tMixing inverted channel 1 and channel 0\n",
      "Extracting audio from /Users/rkonlechner/Media/scripter/projects/2022-01-14_uos/video/mov/raw/2022-01-14_13h45m39s.mov...\n"
     ]
    },
    {
     "name": "stderr",
     "output_type": "stream",
     "text": [
      "\r"
     ]
    },
    {
     "name": "stdout",
     "output_type": "stream",
     "text": [
      "MoviePy - Writing audio in /Users/rkonlechner/Media/scripter/projects/2022-01-14_uos/audio/wav/2022-01-14_13h45m39s.wav\n"
     ]
    },
    {
     "name": "stderr",
     "output_type": "stream",
     "text": [
      "                                                                                "
     ]
    },
    {
     "name": "stdout",
     "output_type": "stream",
     "text": [
      "MoviePy - Done.\n",
      "\tExtracting channel 1 out of 2 channels, 16-bit depth\n",
      "\tExtracting channel 2 out of 2 channels, 16-bit depth\n",
      "\tMixing inverted channel 0 and channel 1\n",
      "\tMixing inverted channel 1 and channel 0\n",
      "Extracting audio from /Users/rkonlechner/Media/scripter/projects/2022-01-14_uos/video/mov/raw/2022-01-14_13h48m31s.mov...\n"
     ]
    },
    {
     "name": "stderr",
     "output_type": "stream",
     "text": [
      "\r"
     ]
    },
    {
     "name": "stdout",
     "output_type": "stream",
     "text": [
      "MoviePy - Writing audio in /Users/rkonlechner/Media/scripter/projects/2022-01-14_uos/audio/wav/2022-01-14_13h48m31s.wav\n"
     ]
    },
    {
     "name": "stderr",
     "output_type": "stream",
     "text": [
      "                                                                                \r"
     ]
    },
    {
     "name": "stdout",
     "output_type": "stream",
     "text": [
      "MoviePy - Done.\n",
      "\tExtracting channel 1 out of 2 channels, 16-bit depth\n",
      "\tExtracting channel 2 out of 2 channels, 16-bit depth\n",
      "\tMixing inverted channel 0 and channel 1\n",
      "\tMixing inverted channel 1 and channel 0\n",
      "Extracting audio from /Users/rkonlechner/Media/scripter/projects/2022-01-14_uos/video/mov/raw/2022-01-14_15h47m32s.mov...\n",
      "MoviePy - Writing audio in /Users/rkonlechner/Media/scripter/projects/2022-01-14_uos/audio/wav/2022-01-14_15h47m32s.wav\n"
     ]
    },
    {
     "name": "stderr",
     "output_type": "stream",
     "text": [
      "                                                                                \r"
     ]
    },
    {
     "name": "stdout",
     "output_type": "stream",
     "text": [
      "MoviePy - Done.\n",
      "\tExtracting channel 1 out of 2 channels, 16-bit depth\n",
      "\tExtracting channel 2 out of 2 channels, 16-bit depth\n",
      "\tMixing inverted channel 0 and channel 1\n",
      "\tMixing inverted channel 1 and channel 0\n",
      "Extracting audio from /Users/rkonlechner/Media/scripter/projects/2022-01-14_uos/video/mov/raw/2022-01-14_16h00m46s.mov...\n",
      "MoviePy - Writing audio in /Users/rkonlechner/Media/scripter/projects/2022-01-14_uos/audio/wav/2022-01-14_16h00m46s.wav\n"
     ]
    },
    {
     "name": "stderr",
     "output_type": "stream",
     "text": [
      "                                                                                \r"
     ]
    },
    {
     "name": "stdout",
     "output_type": "stream",
     "text": [
      "MoviePy - Done.\n",
      "\tExtracting channel 1 out of 2 channels, 16-bit depth\n",
      "\tExtracting channel 2 out of 2 channels, 16-bit depth\n",
      "\tMixing inverted channel 0 and channel 1\n",
      "\tMixing inverted channel 1 and channel 0\n",
      "Extracting audio from /Users/rkonlechner/Media/scripter/projects/2022-01-14_uos/video/mov/raw/2022-01-14_16h25m48s.mov...\n",
      "MoviePy - Writing audio in /Users/rkonlechner/Media/scripter/projects/2022-01-14_uos/audio/wav/2022-01-14_16h25m48s.wav\n"
     ]
    },
    {
     "name": "stderr",
     "output_type": "stream",
     "text": [
      "                                                                                \r"
     ]
    },
    {
     "name": "stdout",
     "output_type": "stream",
     "text": [
      "MoviePy - Done.\n",
      "\tExtracting channel 1 out of 2 channels, 16-bit depth\n",
      "\tExtracting channel 2 out of 2 channels, 16-bit depth\n",
      "\tMixing inverted channel 0 and channel 1\n",
      "\tMixing inverted channel 1 and channel 0\n",
      "Extracting audio from /Users/rkonlechner/Media/scripter/projects/2022-01-20_uos/video/mov/raw/2022-01-19_10h23m45s.mov...\n",
      "MoviePy - Writing audio in /Users/rkonlechner/Media/scripter/projects/2022-01-20_uos/audio/wav/2022-01-19_10h23m45s.wav\n"
     ]
    },
    {
     "name": "stderr",
     "output_type": "stream",
     "text": [
      "                                                                                "
     ]
    },
    {
     "name": "stdout",
     "output_type": "stream",
     "text": [
      "MoviePy - Done.\n",
      "\tExtracting channel 1 out of 2 channels, 16-bit depth\n",
      "\tExtracting channel 2 out of 2 channels, 16-bit depth\n",
      "\tMixing inverted channel 0 and channel 1\n",
      "\tMixing inverted channel 1 and channel 0\n",
      "Extracting audio from /Users/rkonlechner/Media/scripter/projects/2022-01-20_uos/video/mov/raw/2022-01-19_10h24m01s.mov...\n"
     ]
    },
    {
     "name": "stderr",
     "output_type": "stream",
     "text": [
      "\r"
     ]
    },
    {
     "name": "stdout",
     "output_type": "stream",
     "text": [
      "MoviePy - Writing audio in /Users/rkonlechner/Media/scripter/projects/2022-01-20_uos/audio/wav/2022-01-19_10h24m01s.wav\n"
     ]
    },
    {
     "name": "stderr",
     "output_type": "stream",
     "text": [
      "                                                                                \r"
     ]
    },
    {
     "name": "stdout",
     "output_type": "stream",
     "text": [
      "MoviePy - Done.\n",
      "\tExtracting channel 1 out of 2 channels, 16-bit depth\n",
      "\tExtracting channel 2 out of 2 channels, 16-bit depth\n",
      "\tMixing inverted channel 0 and channel 1\n",
      "\tMixing inverted channel 1 and channel 0\n",
      "Extracting audio from /Users/rkonlechner/Media/scripter/projects/2022-01-20_uos/video/mov/raw/2022-01-19_10h24m21s.mov...\n",
      "MoviePy - Writing audio in /Users/rkonlechner/Media/scripter/projects/2022-01-20_uos/audio/wav/2022-01-19_10h24m21s.wav\n"
     ]
    },
    {
     "name": "stderr",
     "output_type": "stream",
     "text": [
      "                                                                                "
     ]
    },
    {
     "name": "stdout",
     "output_type": "stream",
     "text": [
      "MoviePy - Done.\n",
      "\tExtracting channel 1 out of 2 channels, 16-bit depth\n",
      "\tExtracting channel 2 out of 2 channels, 16-bit depth\n",
      "\tMixing inverted channel 0 and channel 1\n",
      "\tMixing inverted channel 1 and channel 0\n",
      "Extracting audio from /Users/rkonlechner/Media/scripter/projects/2022-01-20_uos/video/mov/raw/2022-01-19_10h26m21s.mov...\n"
     ]
    },
    {
     "name": "stderr",
     "output_type": "stream",
     "text": [
      "\r"
     ]
    },
    {
     "name": "stdout",
     "output_type": "stream",
     "text": [
      "MoviePy - Writing audio in /Users/rkonlechner/Media/scripter/projects/2022-01-20_uos/audio/wav/2022-01-19_10h26m21s.wav\n"
     ]
    },
    {
     "name": "stderr",
     "output_type": "stream",
     "text": [
      "                                                                                "
     ]
    },
    {
     "name": "stdout",
     "output_type": "stream",
     "text": [
      "MoviePy - Done.\n",
      "\tExtracting channel 1 out of 2 channels, 16-bit depth\n",
      "\tExtracting channel 2 out of 2 channels, 16-bit depth\n",
      "\tMixing inverted channel 0 and channel 1\n",
      "\tMixing inverted channel 1 and channel 0\n",
      "Extracting audio from /Users/rkonlechner/Media/scripter/projects/2022-01-20_uos/video/mov/raw/2022-01-19_10h28m00s.mov...\n"
     ]
    },
    {
     "name": "stderr",
     "output_type": "stream",
     "text": [
      "\r"
     ]
    },
    {
     "name": "stdout",
     "output_type": "stream",
     "text": [
      "MoviePy - Writing audio in /Users/rkonlechner/Media/scripter/projects/2022-01-20_uos/audio/wav/2022-01-19_10h28m00s.wav\n"
     ]
    },
    {
     "name": "stderr",
     "output_type": "stream",
     "text": [
      "                                                                                "
     ]
    },
    {
     "name": "stdout",
     "output_type": "stream",
     "text": [
      "MoviePy - Done.\n",
      "\tExtracting channel 1 out of 2 channels, 16-bit depth\n",
      "\tExtracting channel 2 out of 2 channels, 16-bit depth\n",
      "\tMixing inverted channel 0 and channel 1\n",
      "\tMixing inverted channel 1 and channel 0\n",
      "Extracting audio from /Users/rkonlechner/Media/scripter/projects/2022-01-20_uos/video/mov/raw/2022-01-19_10h42m44s.mov...\n"
     ]
    },
    {
     "name": "stderr",
     "output_type": "stream",
     "text": [
      "\r"
     ]
    },
    {
     "name": "stdout",
     "output_type": "stream",
     "text": [
      "MoviePy - Writing audio in /Users/rkonlechner/Media/scripter/projects/2022-01-20_uos/audio/wav/2022-01-19_10h42m44s.wav\n"
     ]
    },
    {
     "name": "stderr",
     "output_type": "stream",
     "text": [
      "                                                                                "
     ]
    },
    {
     "name": "stdout",
     "output_type": "stream",
     "text": [
      "MoviePy - Done.\n",
      "\tExtracting channel 1 out of 2 channels, 16-bit depth\n",
      "\tExtracting channel 2 out of 2 channels, 16-bit depth\n",
      "\tMixing inverted channel 0 and channel 1\n",
      "\tMixing inverted channel 1 and channel 0\n",
      "Extracting audio from /Users/rkonlechner/Media/scripter/projects/2022-01-20_uos/video/mov/raw/2022-01-19_10h53m40s.mov...\n"
     ]
    },
    {
     "name": "stderr",
     "output_type": "stream",
     "text": [
      "\r"
     ]
    },
    {
     "name": "stdout",
     "output_type": "stream",
     "text": [
      "MoviePy - Writing audio in /Users/rkonlechner/Media/scripter/projects/2022-01-20_uos/audio/wav/2022-01-19_10h53m40s.wav\n"
     ]
    },
    {
     "name": "stderr",
     "output_type": "stream",
     "text": [
      "                                                                                "
     ]
    },
    {
     "name": "stdout",
     "output_type": "stream",
     "text": [
      "MoviePy - Done.\n",
      "\tExtracting channel 1 out of 2 channels, 16-bit depth\n",
      "\tExtracting channel 2 out of 2 channels, 16-bit depth\n",
      "\tMixing inverted channel 0 and channel 1\n",
      "\tMixing inverted channel 1 and channel 0\n",
      "Extracting audio from /Users/rkonlechner/Media/scripter/projects/2022-01-20_uos/video/mov/raw/2022-01-19_11h06m13s.mov...\n"
     ]
    },
    {
     "name": "stderr",
     "output_type": "stream",
     "text": [
      "\r"
     ]
    },
    {
     "name": "stdout",
     "output_type": "stream",
     "text": [
      "MoviePy - Writing audio in /Users/rkonlechner/Media/scripter/projects/2022-01-20_uos/audio/wav/2022-01-19_11h06m13s.wav\n"
     ]
    },
    {
     "name": "stderr",
     "output_type": "stream",
     "text": [
      "                                                                                \r"
     ]
    },
    {
     "name": "stdout",
     "output_type": "stream",
     "text": [
      "MoviePy - Done.\n",
      "\tExtracting channel 1 out of 2 channels, 16-bit depth\n",
      "\tExtracting channel 2 out of 2 channels, 16-bit depth\n",
      "\tMixing inverted channel 0 and channel 1\n",
      "\tMixing inverted channel 1 and channel 0\n",
      "Extracting audio from /Users/rkonlechner/Media/scripter/projects/2022-01-20_uos/video/mov/raw/2022-01-19_11h11m50s.mov...\n",
      "MoviePy - Writing audio in /Users/rkonlechner/Media/scripter/projects/2022-01-20_uos/audio/wav/2022-01-19_11h11m50s.wav\n"
     ]
    },
    {
     "name": "stderr",
     "output_type": "stream",
     "text": [
      "                                                                                \r"
     ]
    },
    {
     "name": "stdout",
     "output_type": "stream",
     "text": [
      "MoviePy - Done.\n",
      "\tExtracting channel 1 out of 2 channels, 16-bit depth\n",
      "\tExtracting channel 2 out of 2 channels, 16-bit depth\n",
      "\tMixing inverted channel 0 and channel 1\n",
      "\tMixing inverted channel 1 and channel 0\n",
      "Extracting audio from /Users/rkonlechner/Media/scripter/projects/2022-01-20_uos/video/mov/raw/2022-01-19_11h14m28s.mov...\n",
      "MoviePy - Writing audio in /Users/rkonlechner/Media/scripter/projects/2022-01-20_uos/audio/wav/2022-01-19_11h14m28s.wav\n"
     ]
    },
    {
     "name": "stderr",
     "output_type": "stream",
     "text": [
      "                                                                                \r"
     ]
    },
    {
     "name": "stdout",
     "output_type": "stream",
     "text": [
      "MoviePy - Done.\n",
      "\tExtracting channel 1 out of 2 channels, 16-bit depth\n",
      "\tExtracting channel 2 out of 2 channels, 16-bit depth\n",
      "\tMixing inverted channel 0 and channel 1\n",
      "\tMixing inverted channel 1 and channel 0\n",
      "Extracting audio from /Users/rkonlechner/Media/scripter/projects/2022-01-20_uos/video/mov/raw/2022-01-19_12h05m06s.mov...\n",
      "MoviePy - Writing audio in /Users/rkonlechner/Media/scripter/projects/2022-01-20_uos/audio/wav/2022-01-19_12h05m06s.wav\n"
     ]
    },
    {
     "name": "stderr",
     "output_type": "stream",
     "text": [
      "                                                                                \r"
     ]
    },
    {
     "name": "stdout",
     "output_type": "stream",
     "text": [
      "MoviePy - Done.\n",
      "\tExtracting channel 1 out of 2 channels, 16-bit depth\n",
      "\tExtracting channel 2 out of 2 channels, 16-bit depth\n",
      "\tMixing inverted channel 0 and channel 1\n",
      "\tMixing inverted channel 1 and channel 0\n",
      "Extracting audio from /Users/rkonlechner/Media/scripter/projects/2022-01-20_uos/video/mov/raw/2022-01-19_13h41m57s.mov...\n",
      "MoviePy - Writing audio in /Users/rkonlechner/Media/scripter/projects/2022-01-20_uos/audio/wav/2022-01-19_13h41m57s.wav\n"
     ]
    },
    {
     "name": "stderr",
     "output_type": "stream",
     "text": [
      "                                                                                "
     ]
    },
    {
     "name": "stdout",
     "output_type": "stream",
     "text": [
      "MoviePy - Done.\n",
      "\tExtracting channel 1 out of 2 channels, 16-bit depth\n",
      "\tExtracting channel 2 out of 2 channels, 16-bit depth\n",
      "\tMixing inverted channel 0 and channel 1\n",
      "\tMixing inverted channel 1 and channel 0\n"
     ]
    },
    {
     "name": "stderr",
     "output_type": "stream",
     "text": [
      "\r"
     ]
    },
    {
     "name": "stdout",
     "output_type": "stream",
     "text": [
      "Extracting audio from /Users/rkonlechner/Media/scripter/projects/2022-01-20_uos/video/mov/raw/2022-01-19_13h48m16s.mov...\n",
      "MoviePy - Writing audio in /Users/rkonlechner/Media/scripter/projects/2022-01-20_uos/audio/wav/2022-01-19_13h48m16s.wav\n"
     ]
    },
    {
     "name": "stderr",
     "output_type": "stream",
     "text": [
      "                                                                                "
     ]
    },
    {
     "name": "stdout",
     "output_type": "stream",
     "text": [
      "MoviePy - Done.\n",
      "\tExtracting channel 1 out of 2 channels, 16-bit depth\n",
      "\tExtracting channel 2 out of 2 channels, 16-bit depth\n",
      "\tMixing inverted channel 0 and channel 1\n",
      "\tMixing inverted channel 1 and channel 0\n",
      "Extracting audio from /Users/rkonlechner/Media/scripter/projects/2022-01-20_uos/video/mov/raw/2022-01-19_13h49m09s.mov...\n"
     ]
    },
    {
     "name": "stderr",
     "output_type": "stream",
     "text": [
      "\r"
     ]
    },
    {
     "name": "stdout",
     "output_type": "stream",
     "text": [
      "MoviePy - Writing audio in /Users/rkonlechner/Media/scripter/projects/2022-01-20_uos/audio/wav/2022-01-19_13h49m09s.wav\n"
     ]
    },
    {
     "name": "stderr",
     "output_type": "stream",
     "text": [
      "                                                                                "
     ]
    },
    {
     "name": "stdout",
     "output_type": "stream",
     "text": [
      "MoviePy - Done.\n",
      "\tExtracting channel 1 out of 2 channels, 16-bit depth\n",
      "\tExtracting channel 2 out of 2 channels, 16-bit depth\n",
      "\tMixing inverted channel 0 and channel 1\n",
      "\tMixing inverted channel 1 and channel 0\n",
      "Extracting audio from /Users/rkonlechner/Media/scripter/projects/2022-01-20_uos/video/mov/raw/2022-01-19_13h49m47s.mov...\n"
     ]
    },
    {
     "name": "stderr",
     "output_type": "stream",
     "text": [
      "\r"
     ]
    },
    {
     "name": "stdout",
     "output_type": "stream",
     "text": [
      "MoviePy - Writing audio in /Users/rkonlechner/Media/scripter/projects/2022-01-20_uos/audio/wav/2022-01-19_13h49m47s.wav\n"
     ]
    },
    {
     "name": "stderr",
     "output_type": "stream",
     "text": [
      "                                                                                "
     ]
    },
    {
     "name": "stdout",
     "output_type": "stream",
     "text": [
      "MoviePy - Done.\n",
      "\tExtracting channel 1 out of 2 channels, 16-bit depth\n",
      "\tExtracting channel 2 out of 2 channels, 16-bit depth\n",
      "\tMixing inverted channel 0 and channel 1\n",
      "\tMixing inverted channel 1 and channel 0\n",
      "Extracting audio from /Users/rkonlechner/Media/scripter/projects/2022-01-20_uos/video/mov/raw/2022-01-19_13h51m14s.mov...\n"
     ]
    },
    {
     "name": "stderr",
     "output_type": "stream",
     "text": [
      "\r"
     ]
    },
    {
     "name": "stdout",
     "output_type": "stream",
     "text": [
      "MoviePy - Writing audio in /Users/rkonlechner/Media/scripter/projects/2022-01-20_uos/audio/wav/2022-01-19_13h51m14s.wav\n"
     ]
    },
    {
     "name": "stderr",
     "output_type": "stream",
     "text": [
      "                                                                                "
     ]
    },
    {
     "name": "stdout",
     "output_type": "stream",
     "text": [
      "MoviePy - Done.\n",
      "\tExtracting channel 1 out of 2 channels, 16-bit depth\n",
      "\tExtracting channel 2 out of 2 channels, 16-bit depth\n",
      "\tMixing inverted channel 0 and channel 1\n",
      "\tMixing inverted channel 1 and channel 0\n",
      "Extracting audio from /Users/rkonlechner/Media/scripter/projects/2022-01-20_uos/video/mov/raw/2022-01-19_13h52m06s.mov...\n"
     ]
    },
    {
     "name": "stderr",
     "output_type": "stream",
     "text": [
      "\r"
     ]
    },
    {
     "name": "stdout",
     "output_type": "stream",
     "text": [
      "MoviePy - Writing audio in /Users/rkonlechner/Media/scripter/projects/2022-01-20_uos/audio/wav/2022-01-19_13h52m06s.wav\n"
     ]
    },
    {
     "name": "stderr",
     "output_type": "stream",
     "text": [
      "                                                                                "
     ]
    },
    {
     "name": "stdout",
     "output_type": "stream",
     "text": [
      "MoviePy - Done.\n",
      "\tExtracting channel 1 out of 2 channels, 16-bit depth\n",
      "\tExtracting channel 2 out of 2 channels, 16-bit depth\n",
      "\tMixing inverted channel 0 and channel 1\n",
      "\tMixing inverted channel 1 and channel 0\n",
      "Extracting audio from /Users/rkonlechner/Media/scripter/projects/2022-01-20_uos/video/mov/raw/2022-01-19_13h52m35s.mov...\n"
     ]
    },
    {
     "name": "stderr",
     "output_type": "stream",
     "text": [
      "\r"
     ]
    },
    {
     "name": "stdout",
     "output_type": "stream",
     "text": [
      "MoviePy - Writing audio in /Users/rkonlechner/Media/scripter/projects/2022-01-20_uos/audio/wav/2022-01-19_13h52m35s.wav\n"
     ]
    },
    {
     "name": "stderr",
     "output_type": "stream",
     "text": [
      "                                                                                "
     ]
    },
    {
     "name": "stdout",
     "output_type": "stream",
     "text": [
      "MoviePy - Done.\n",
      "\tExtracting channel 1 out of 2 channels, 16-bit depth\n",
      "\tExtracting channel 2 out of 2 channels, 16-bit depth\n",
      "\tMixing inverted channel 0 and channel 1\n",
      "\tMixing inverted channel 1 and channel 0\n",
      "Extracting audio from /Users/rkonlechner/Media/scripter/projects/2022-01-20_uos/video/mov/raw/2022-01-19_13h54m53s.mov...\n"
     ]
    },
    {
     "name": "stderr",
     "output_type": "stream",
     "text": [
      "\r"
     ]
    },
    {
     "name": "stdout",
     "output_type": "stream",
     "text": [
      "MoviePy - Writing audio in /Users/rkonlechner/Media/scripter/projects/2022-01-20_uos/audio/wav/2022-01-19_13h54m53s.wav\n"
     ]
    },
    {
     "name": "stderr",
     "output_type": "stream",
     "text": [
      "                                                                                \r"
     ]
    },
    {
     "name": "stdout",
     "output_type": "stream",
     "text": [
      "MoviePy - Done.\n",
      "\tExtracting channel 1 out of 2 channels, 16-bit depth\n",
      "\tExtracting channel 2 out of 2 channels, 16-bit depth\n",
      "\tMixing inverted channel 0 and channel 1\n",
      "\tMixing inverted channel 1 and channel 0\n",
      "Extracting audio from /Users/rkonlechner/Media/scripter/projects/2022-01-20_uos/video/mov/raw/2022-01-19_13h55m57s.mov...\n",
      "MoviePy - Writing audio in /Users/rkonlechner/Media/scripter/projects/2022-01-20_uos/audio/wav/2022-01-19_13h55m57s.wav\n"
     ]
    },
    {
     "name": "stderr",
     "output_type": "stream",
     "text": [
      "                                                                                \r"
     ]
    },
    {
     "name": "stdout",
     "output_type": "stream",
     "text": [
      "MoviePy - Done.\n",
      "\tExtracting channel 1 out of 2 channels, 16-bit depth\n",
      "\tExtracting channel 2 out of 2 channels, 16-bit depth\n",
      "\tMixing inverted channel 0 and channel 1\n",
      "\tMixing inverted channel 1 and channel 0\n",
      "Extracting audio from /Users/rkonlechner/Media/scripter/projects/2022-01-20_uos/video/mov/raw/2022-01-19_13h57m25s.mov...\n",
      "MoviePy - Writing audio in /Users/rkonlechner/Media/scripter/projects/2022-01-20_uos/audio/wav/2022-01-19_13h57m25s.wav\n"
     ]
    },
    {
     "name": "stderr",
     "output_type": "stream",
     "text": [
      "                                                                                \r"
     ]
    },
    {
     "name": "stdout",
     "output_type": "stream",
     "text": [
      "MoviePy - Done.\n",
      "\tExtracting channel 1 out of 2 channels, 16-bit depth\n",
      "\tExtracting channel 2 out of 2 channels, 16-bit depth\n",
      "\tMixing inverted channel 0 and channel 1\n",
      "\tMixing inverted channel 1 and channel 0\n",
      "Extracting audio from /Users/rkonlechner/Media/scripter/projects/2022-01-20_uos/video/mov/raw/2022-01-19_13h59m12s.mov...\n",
      "MoviePy - Writing audio in /Users/rkonlechner/Media/scripter/projects/2022-01-20_uos/audio/wav/2022-01-19_13h59m12s.wav\n"
     ]
    },
    {
     "name": "stderr",
     "output_type": "stream",
     "text": [
      "                                                                                \r"
     ]
    },
    {
     "name": "stdout",
     "output_type": "stream",
     "text": [
      "MoviePy - Done.\n",
      "\tExtracting channel 1 out of 2 channels, 16-bit depth\n",
      "\tExtracting channel 2 out of 2 channels, 16-bit depth\n",
      "\tMixing inverted channel 0 and channel 1\n",
      "\tMixing inverted channel 1 and channel 0\n",
      "Extracting audio from /Users/rkonlechner/Media/scripter/projects/2022-01-20_uos/video/mov/raw/2022-01-19_14h00m24s.mov...\n",
      "MoviePy - Writing audio in /Users/rkonlechner/Media/scripter/projects/2022-01-20_uos/audio/wav/2022-01-19_14h00m24s.wav\n"
     ]
    },
    {
     "name": "stderr",
     "output_type": "stream",
     "text": [
      "                                                                                "
     ]
    },
    {
     "name": "stdout",
     "output_type": "stream",
     "text": [
      "MoviePy - Done.\n",
      "\tExtracting channel 1 out of 2 channels, 16-bit depth\n",
      "\tExtracting channel 2 out of 2 channels, 16-bit depth\n",
      "\tMixing inverted channel 0 and channel 1\n",
      "\tMixing inverted channel 1 and channel 0\n",
      "Extracting audio from /Users/rkonlechner/Media/scripter/projects/2022-01-20_uos/video/mov/raw/2022-01-19_14h01m06s.mov...\n"
     ]
    },
    {
     "name": "stderr",
     "output_type": "stream",
     "text": [
      "\r"
     ]
    },
    {
     "name": "stdout",
     "output_type": "stream",
     "text": [
      "MoviePy - Writing audio in /Users/rkonlechner/Media/scripter/projects/2022-01-20_uos/audio/wav/2022-01-19_14h01m06s.wav\n"
     ]
    },
    {
     "name": "stderr",
     "output_type": "stream",
     "text": [
      "                                                                                "
     ]
    },
    {
     "name": "stdout",
     "output_type": "stream",
     "text": [
      "MoviePy - Done.\n",
      "\tExtracting channel 1 out of 2 channels, 16-bit depth\n",
      "\tExtracting channel 2 out of 2 channels, 16-bit depth\n",
      "\tMixing inverted channel 0 and channel 1\n",
      "\tMixing inverted channel 1 and channel 0\n",
      "Extracting audio from /Users/rkonlechner/Media/scripter/projects/2022-01-20_uos/video/mov/raw/2022-01-19_14h02m31s.mov...\n"
     ]
    },
    {
     "name": "stderr",
     "output_type": "stream",
     "text": [
      "\r"
     ]
    },
    {
     "name": "stdout",
     "output_type": "stream",
     "text": [
      "MoviePy - Writing audio in /Users/rkonlechner/Media/scripter/projects/2022-01-20_uos/audio/wav/2022-01-19_14h02m31s.wav\n"
     ]
    },
    {
     "name": "stderr",
     "output_type": "stream",
     "text": [
      "                                                                                "
     ]
    },
    {
     "name": "stdout",
     "output_type": "stream",
     "text": [
      "MoviePy - Done.\n",
      "\tExtracting channel 1 out of 2 channels, 16-bit depth\n",
      "\tExtracting channel 2 out of 2 channels, 16-bit depth\n",
      "\tMixing inverted channel 0 and channel 1\n",
      "\tMixing inverted channel 1 and channel 0\n",
      "Extracting audio from /Users/rkonlechner/Media/scripter/projects/2022-01-20_uos/video/mov/raw/2022-01-19_14h03m39s.mov...\n"
     ]
    },
    {
     "name": "stderr",
     "output_type": "stream",
     "text": [
      "\r"
     ]
    },
    {
     "name": "stdout",
     "output_type": "stream",
     "text": [
      "MoviePy - Writing audio in /Users/rkonlechner/Media/scripter/projects/2022-01-20_uos/audio/wav/2022-01-19_14h03m39s.wav\n"
     ]
    },
    {
     "name": "stderr",
     "output_type": "stream",
     "text": [
      "                                                                                "
     ]
    },
    {
     "name": "stdout",
     "output_type": "stream",
     "text": [
      "MoviePy - Done.\n",
      "\tExtracting channel 1 out of 2 channels, 16-bit depth\n",
      "\tExtracting channel 2 out of 2 channels, 16-bit depth\n",
      "\tMixing inverted channel 0 and channel 1\n",
      "\tMixing inverted channel 1 and channel 0\n",
      "Extracting audio from /Users/rkonlechner/Media/scripter/projects/2022-01-20_uos/video/mov/raw/2022-01-19_14h04m58s.mov...\n"
     ]
    },
    {
     "name": "stderr",
     "output_type": "stream",
     "text": [
      "\r"
     ]
    },
    {
     "name": "stdout",
     "output_type": "stream",
     "text": [
      "MoviePy - Writing audio in /Users/rkonlechner/Media/scripter/projects/2022-01-20_uos/audio/wav/2022-01-19_14h04m58s.wav\n"
     ]
    },
    {
     "name": "stderr",
     "output_type": "stream",
     "text": [
      "                                                                                \r"
     ]
    },
    {
     "name": "stdout",
     "output_type": "stream",
     "text": [
      "MoviePy - Done.\n",
      "\tExtracting channel 1 out of 2 channels, 16-bit depth\n",
      "\tExtracting channel 2 out of 2 channels, 16-bit depth\n",
      "\tMixing inverted channel 0 and channel 1\n",
      "\tMixing inverted channel 1 and channel 0\n",
      "Extracting audio from /Users/rkonlechner/Media/scripter/projects/2022-01-20_uos/video/mov/raw/2022-01-19_14h09m24s.mov...\n",
      "MoviePy - Writing audio in /Users/rkonlechner/Media/scripter/projects/2022-01-20_uos/audio/wav/2022-01-19_14h09m24s.wav\n"
     ]
    },
    {
     "name": "stderr",
     "output_type": "stream",
     "text": [
      "                                                                                "
     ]
    },
    {
     "name": "stdout",
     "output_type": "stream",
     "text": [
      "MoviePy - Done.\n",
      "\tExtracting channel 1 out of 2 channels, 16-bit depth\n",
      "\tExtracting channel 2 out of 2 channels, 16-bit depth\n",
      "\tMixing inverted channel 0 and channel 1\n",
      "\tMixing inverted channel 1 and channel 0\n",
      "Extracting audio from /Users/rkonlechner/Media/scripter/projects/2022-01-20_uos/video/mov/raw/2022-01-19_14h10m37s.mov...\n"
     ]
    },
    {
     "name": "stderr",
     "output_type": "stream",
     "text": [
      "\r"
     ]
    },
    {
     "name": "stdout",
     "output_type": "stream",
     "text": [
      "MoviePy - Writing audio in /Users/rkonlechner/Media/scripter/projects/2022-01-20_uos/audio/wav/2022-01-19_14h10m37s.wav\n"
     ]
    },
    {
     "name": "stderr",
     "output_type": "stream",
     "text": [
      "                                                                                "
     ]
    },
    {
     "name": "stdout",
     "output_type": "stream",
     "text": [
      "MoviePy - Done.\n",
      "\tExtracting channel 1 out of 2 channels, 16-bit depth\n",
      "\tExtracting channel 2 out of 2 channels, 16-bit depth\n",
      "\tMixing inverted channel 0 and channel 1\n",
      "\tMixing inverted channel 1 and channel 0\n",
      "Extracting audio from /Users/rkonlechner/Media/scripter/projects/2022-01-20_uos/video/mov/raw/2022-01-19_14h10m52s.mov...\n"
     ]
    },
    {
     "name": "stderr",
     "output_type": "stream",
     "text": [
      "\r"
     ]
    },
    {
     "name": "stdout",
     "output_type": "stream",
     "text": [
      "MoviePy - Writing audio in /Users/rkonlechner/Media/scripter/projects/2022-01-20_uos/audio/wav/2022-01-19_14h10m52s.wav\n"
     ]
    },
    {
     "name": "stderr",
     "output_type": "stream",
     "text": [
      "                                                                                "
     ]
    },
    {
     "name": "stdout",
     "output_type": "stream",
     "text": [
      "MoviePy - Done.\n",
      "\tExtracting channel 1 out of 2 channels, 16-bit depth\n",
      "\tExtracting channel 2 out of 2 channels, 16-bit depth\n",
      "\tMixing inverted channel 0 and channel 1\n",
      "\tMixing inverted channel 1 and channel 0\n",
      "Extracting audio from /Users/rkonlechner/Media/scripter/projects/2022-01-20_uos/video/mov/raw/2022-01-19_14h11m04s.mov...\n"
     ]
    },
    {
     "name": "stderr",
     "output_type": "stream",
     "text": [
      "\r"
     ]
    },
    {
     "name": "stdout",
     "output_type": "stream",
     "text": [
      "MoviePy - Writing audio in /Users/rkonlechner/Media/scripter/projects/2022-01-20_uos/audio/wav/2022-01-19_14h11m04s.wav\n"
     ]
    },
    {
     "name": "stderr",
     "output_type": "stream",
     "text": [
      "                                                                                "
     ]
    },
    {
     "name": "stdout",
     "output_type": "stream",
     "text": [
      "MoviePy - Done.\n",
      "\tExtracting channel 1 out of 2 channels, 16-bit depth\n",
      "\tExtracting channel 2 out of 2 channels, 16-bit depth\n",
      "\tMixing inverted channel 0 and channel 1\n",
      "\tMixing inverted channel 1 and channel 0\n",
      "Extracting audio from /Users/rkonlechner/Media/scripter/projects/2022-01-20_uos/video/mov/raw/2022-01-19_14h12m04s.mov...\n"
     ]
    },
    {
     "name": "stderr",
     "output_type": "stream",
     "text": [
      "\r"
     ]
    },
    {
     "name": "stdout",
     "output_type": "stream",
     "text": [
      "MoviePy - Writing audio in /Users/rkonlechner/Media/scripter/projects/2022-01-20_uos/audio/wav/2022-01-19_14h12m04s.wav\n"
     ]
    },
    {
     "name": "stderr",
     "output_type": "stream",
     "text": [
      "                                                                                "
     ]
    },
    {
     "name": "stdout",
     "output_type": "stream",
     "text": [
      "MoviePy - Done.\n",
      "\tExtracting channel 1 out of 2 channels, 16-bit depth\n",
      "\tExtracting channel 2 out of 2 channels, 16-bit depth\n",
      "\tMixing inverted channel 0 and channel 1\n",
      "\tMixing inverted channel 1 and channel 0\n",
      "Extracting audio from /Users/rkonlechner/Media/scripter/projects/2022-01-20_uos/video/mov/raw/2022-01-19_14h12m26s.mov...\n"
     ]
    },
    {
     "name": "stderr",
     "output_type": "stream",
     "text": [
      "\r"
     ]
    },
    {
     "name": "stdout",
     "output_type": "stream",
     "text": [
      "MoviePy - Writing audio in /Users/rkonlechner/Media/scripter/projects/2022-01-20_uos/audio/wav/2022-01-19_14h12m26s.wav\n"
     ]
    },
    {
     "name": "stderr",
     "output_type": "stream",
     "text": [
      "                                                                                "
     ]
    },
    {
     "name": "stdout",
     "output_type": "stream",
     "text": [
      "MoviePy - Done.\n",
      "\tExtracting channel 1 out of 2 channels, 16-bit depth\n",
      "\tExtracting channel 2 out of 2 channels, 16-bit depth\n",
      "\tMixing inverted channel 0 and channel 1\n",
      "\tMixing inverted channel 1 and channel 0\n",
      "Extracting audio from /Users/rkonlechner/Media/scripter/projects/2022-01-20_uos/video/mov/raw/2022-01-19_14h12m53s.mov...\n"
     ]
    },
    {
     "name": "stderr",
     "output_type": "stream",
     "text": [
      "\r"
     ]
    },
    {
     "name": "stdout",
     "output_type": "stream",
     "text": [
      "MoviePy - Writing audio in /Users/rkonlechner/Media/scripter/projects/2022-01-20_uos/audio/wav/2022-01-19_14h12m53s.wav\n"
     ]
    },
    {
     "name": "stderr",
     "output_type": "stream",
     "text": [
      "                                                                                "
     ]
    },
    {
     "name": "stdout",
     "output_type": "stream",
     "text": [
      "MoviePy - Done.\n",
      "\tExtracting channel 1 out of 2 channels, 16-bit depth\n",
      "\tExtracting channel 2 out of 2 channels, 16-bit depth\n",
      "\tMixing inverted channel 0 and channel 1\n",
      "\tMixing inverted channel 1 and channel 0\n",
      "Extracting audio from /Users/rkonlechner/Media/scripter/projects/2022-01-20_uos/video/mov/raw/2022-01-19_14h13m04s.mov...\n"
     ]
    },
    {
     "name": "stderr",
     "output_type": "stream",
     "text": [
      "\r"
     ]
    },
    {
     "name": "stdout",
     "output_type": "stream",
     "text": [
      "MoviePy - Writing audio in /Users/rkonlechner/Media/scripter/projects/2022-01-20_uos/audio/wav/2022-01-19_14h13m04s.wav\n"
     ]
    },
    {
     "name": "stderr",
     "output_type": "stream",
     "text": [
      "                                                                                "
     ]
    },
    {
     "name": "stdout",
     "output_type": "stream",
     "text": [
      "MoviePy - Done.\n",
      "\tExtracting channel 1 out of 2 channels, 16-bit depth\n",
      "\tExtracting channel 2 out of 2 channels, 16-bit depth\n",
      "\tMixing inverted channel 0 and channel 1\n",
      "\tMixing inverted channel 1 and channel 0\n",
      "Extracting audio from /Users/rkonlechner/Media/scripter/projects/2022-01-20_uos/video/mov/raw/2022-01-19_14h13m49s.mov...\n"
     ]
    },
    {
     "name": "stderr",
     "output_type": "stream",
     "text": [
      "\r"
     ]
    },
    {
     "name": "stdout",
     "output_type": "stream",
     "text": [
      "MoviePy - Writing audio in /Users/rkonlechner/Media/scripter/projects/2022-01-20_uos/audio/wav/2022-01-19_14h13m49s.wav\n"
     ]
    },
    {
     "name": "stderr",
     "output_type": "stream",
     "text": [
      "                                                                                \r"
     ]
    },
    {
     "name": "stdout",
     "output_type": "stream",
     "text": [
      "MoviePy - Done.\n",
      "\tExtracting channel 1 out of 2 channels, 16-bit depth\n",
      "\tExtracting channel 2 out of 2 channels, 16-bit depth\n",
      "\tMixing inverted channel 0 and channel 1\n",
      "\tMixing inverted channel 1 and channel 0\n",
      "Extracting audio from /Users/rkonlechner/Media/scripter/projects/2022-01-20_uos/video/mov/raw/2022-01-19_14h14m27s.mov...\n",
      "MoviePy - Writing audio in /Users/rkonlechner/Media/scripter/projects/2022-01-20_uos/audio/wav/2022-01-19_14h14m27s.wav\n"
     ]
    },
    {
     "name": "stderr",
     "output_type": "stream",
     "text": [
      "                                                                                "
     ]
    },
    {
     "name": "stdout",
     "output_type": "stream",
     "text": [
      "MoviePy - Done.\n",
      "\tExtracting channel 1 out of 2 channels, 16-bit depth\n",
      "\tExtracting channel 2 out of 2 channels, 16-bit depth\n",
      "\tMixing inverted channel 0 and channel 1\n",
      "\tMixing inverted channel 1 and channel 0\n",
      "Extracting audio from /Users/rkonlechner/Media/scripter/projects/2022-01-20_uos/video/mov/raw/2022-01-19_14h15m13s.mov...\n"
     ]
    },
    {
     "name": "stderr",
     "output_type": "stream",
     "text": [
      "\r"
     ]
    },
    {
     "name": "stdout",
     "output_type": "stream",
     "text": [
      "MoviePy - Writing audio in /Users/rkonlechner/Media/scripter/projects/2022-01-20_uos/audio/wav/2022-01-19_14h15m13s.wav\n"
     ]
    },
    {
     "name": "stderr",
     "output_type": "stream",
     "text": [
      "                                                                                "
     ]
    },
    {
     "name": "stdout",
     "output_type": "stream",
     "text": [
      "MoviePy - Done.\n",
      "\tExtracting channel 1 out of 2 channels, 16-bit depth\n",
      "\tExtracting channel 2 out of 2 channels, 16-bit depth\n",
      "\tMixing inverted channel 0 and channel 1\n",
      "\tMixing inverted channel 1 and channel 0\n",
      "Extracting audio from /Users/rkonlechner/Media/scripter/projects/2022-01-20_uos/video/mov/raw/2022-01-19_14h19m51s.mov...\n"
     ]
    },
    {
     "name": "stderr",
     "output_type": "stream",
     "text": [
      "\r"
     ]
    },
    {
     "name": "stdout",
     "output_type": "stream",
     "text": [
      "MoviePy - Writing audio in /Users/rkonlechner/Media/scripter/projects/2022-01-20_uos/audio/wav/2022-01-19_14h19m51s.wav\n"
     ]
    },
    {
     "name": "stderr",
     "output_type": "stream",
     "text": [
      "                                                                                \r"
     ]
    },
    {
     "name": "stdout",
     "output_type": "stream",
     "text": [
      "MoviePy - Done.\n",
      "\tExtracting channel 1 out of 2 channels, 16-bit depth\n",
      "\tExtracting channel 2 out of 2 channels, 16-bit depth\n",
      "\tMixing inverted channel 0 and channel 1\n",
      "\tMixing inverted channel 1 and channel 0\n",
      "Extracting audio from /Users/rkonlechner/Media/scripter/projects/2022-01-20_uos/video/mov/raw/2022-01-19_14h21m47s.mov...\n",
      "MoviePy - Writing audio in /Users/rkonlechner/Media/scripter/projects/2022-01-20_uos/audio/wav/2022-01-19_14h21m47s.wav\n"
     ]
    },
    {
     "name": "stderr",
     "output_type": "stream",
     "text": [
      "                                                                                \r"
     ]
    },
    {
     "name": "stdout",
     "output_type": "stream",
     "text": [
      "MoviePy - Done.\n",
      "\tExtracting channel 1 out of 2 channels, 16-bit depth\n",
      "\tExtracting channel 2 out of 2 channels, 16-bit depth\n",
      "\tMixing inverted channel 0 and channel 1\n",
      "\tMixing inverted channel 1 and channel 0\n",
      "Extracting audio from /Users/rkonlechner/Media/scripter/projects/2022-01-20_uos/video/mov/raw/2022-01-19_14h34m35s.mov...\n",
      "MoviePy - Writing audio in /Users/rkonlechner/Media/scripter/projects/2022-01-20_uos/audio/wav/2022-01-19_14h34m35s.wav\n"
     ]
    },
    {
     "name": "stderr",
     "output_type": "stream",
     "text": [
      "                                                                                \r"
     ]
    },
    {
     "name": "stdout",
     "output_type": "stream",
     "text": [
      "MoviePy - Done.\n",
      "\tExtracting channel 1 out of 2 channels, 16-bit depth\n",
      "\tExtracting channel 2 out of 2 channels, 16-bit depth\n",
      "\tMixing inverted channel 0 and channel 1\n",
      "\tMixing inverted channel 1 and channel 0\n",
      "Extracting audio from /Users/rkonlechner/Media/scripter/projects/2022-01-20_uos/video/mov/raw/2022-01-19_14h36m48s.mov...\n",
      "MoviePy - Writing audio in /Users/rkonlechner/Media/scripter/projects/2022-01-20_uos/audio/wav/2022-01-19_14h36m48s.wav\n"
     ]
    },
    {
     "name": "stderr",
     "output_type": "stream",
     "text": [
      "                                                                                \r"
     ]
    },
    {
     "name": "stdout",
     "output_type": "stream",
     "text": [
      "MoviePy - Done.\n",
      "\tExtracting channel 1 out of 2 channels, 16-bit depth\n",
      "\tExtracting channel 2 out of 2 channels, 16-bit depth\n",
      "\tMixing inverted channel 0 and channel 1\n",
      "\tMixing inverted channel 1 and channel 0\n",
      "Extracting audio from /Users/rkonlechner/Media/scripter/projects/2022-01-20_uos/video/mov/raw/2022-01-19_14h37m15s.mov...\n",
      "MoviePy - Writing audio in /Users/rkonlechner/Media/scripter/projects/2022-01-20_uos/audio/wav/2022-01-19_14h37m15s.wav\n"
     ]
    },
    {
     "name": "stderr",
     "output_type": "stream",
     "text": [
      "                                                                                "
     ]
    },
    {
     "name": "stdout",
     "output_type": "stream",
     "text": [
      "MoviePy - Done.\n",
      "\tExtracting channel 1 out of 2 channels, 16-bit depth\n",
      "\tExtracting channel 2 out of 2 channels, 16-bit depth\n",
      "\tMixing inverted channel 0 and channel 1\n",
      "\tMixing inverted channel 1 and channel 0\n",
      "Extracting audio from /Users/rkonlechner/Media/scripter/projects/2022-01-20_uos/video/mov/raw/2022-01-19_15h48m52s.mov...\n"
     ]
    },
    {
     "name": "stderr",
     "output_type": "stream",
     "text": [
      "\r"
     ]
    },
    {
     "name": "stdout",
     "output_type": "stream",
     "text": [
      "MoviePy - Writing audio in /Users/rkonlechner/Media/scripter/projects/2022-01-20_uos/audio/wav/2022-01-19_15h48m52s.wav\n"
     ]
    },
    {
     "name": "stderr",
     "output_type": "stream",
     "text": [
      "                                                                                "
     ]
    },
    {
     "name": "stdout",
     "output_type": "stream",
     "text": [
      "MoviePy - Done.\n",
      "\tExtracting channel 1 out of 2 channels, 16-bit depth\n",
      "\tExtracting channel 2 out of 2 channels, 16-bit depth\n",
      "\tMixing inverted channel 0 and channel 1\n",
      "\tMixing inverted channel 1 and channel 0\n",
      "Extracting audio from /Users/rkonlechner/Media/scripter/projects/2022-01-20_uos/video/mov/raw/2022-01-19_15h50m17s.mov...\n"
     ]
    },
    {
     "name": "stderr",
     "output_type": "stream",
     "text": [
      "\r"
     ]
    },
    {
     "name": "stdout",
     "output_type": "stream",
     "text": [
      "MoviePy - Writing audio in /Users/rkonlechner/Media/scripter/projects/2022-01-20_uos/audio/wav/2022-01-19_15h50m17s.wav\n"
     ]
    },
    {
     "name": "stderr",
     "output_type": "stream",
     "text": [
      "                                                                                "
     ]
    },
    {
     "name": "stdout",
     "output_type": "stream",
     "text": [
      "MoviePy - Done.\n",
      "\tExtracting channel 1 out of 2 channels, 16-bit depth\n",
      "\tExtracting channel 2 out of 2 channels, 16-bit depth\n",
      "\tMixing inverted channel 0 and channel 1\n",
      "\tMixing inverted channel 1 and channel 0\n",
      "Extracting audio from /Users/rkonlechner/Media/scripter/projects/2022-01-20_uos/video/mov/raw/2022-01-19_15h54m08s.mov...\n"
     ]
    },
    {
     "name": "stderr",
     "output_type": "stream",
     "text": [
      "\r"
     ]
    },
    {
     "name": "stdout",
     "output_type": "stream",
     "text": [
      "MoviePy - Writing audio in /Users/rkonlechner/Media/scripter/projects/2022-01-20_uos/audio/wav/2022-01-19_15h54m08s.wav\n"
     ]
    },
    {
     "name": "stderr",
     "output_type": "stream",
     "text": [
      "                                                                                \r"
     ]
    },
    {
     "name": "stdout",
     "output_type": "stream",
     "text": [
      "MoviePy - Done.\n",
      "\tExtracting channel 1 out of 2 channels, 16-bit depth\n",
      "\tExtracting channel 2 out of 2 channels, 16-bit depth\n",
      "\tMixing inverted channel 0 and channel 1\n",
      "\tMixing inverted channel 1 and channel 0\n",
      "Extracting audio from /Users/rkonlechner/Media/scripter/projects/2022-01-20_uos/video/mov/raw/2022-01-19_15h55m28s.mov...\n",
      "MoviePy - Writing audio in /Users/rkonlechner/Media/scripter/projects/2022-01-20_uos/audio/wav/2022-01-19_15h55m28s.wav\n"
     ]
    },
    {
     "name": "stderr",
     "output_type": "stream",
     "text": [
      "                                                                                \r"
     ]
    },
    {
     "name": "stdout",
     "output_type": "stream",
     "text": [
      "MoviePy - Done.\n",
      "\tExtracting channel 1 out of 2 channels, 16-bit depth\n",
      "\tExtracting channel 2 out of 2 channels, 16-bit depth\n",
      "\tMixing inverted channel 0 and channel 1\n",
      "\tMixing inverted channel 1 and channel 0\n",
      "Extracting audio from /Users/rkonlechner/Media/scripter/projects/2022-01-20_uos/video/mov/raw/2022-01-19_15h55m37s.mov...\n",
      "MoviePy - Writing audio in /Users/rkonlechner/Media/scripter/projects/2022-01-20_uos/audio/wav/2022-01-19_15h55m37s.wav\n"
     ]
    },
    {
     "name": "stderr",
     "output_type": "stream",
     "text": [
      "                                                                                "
     ]
    },
    {
     "name": "stdout",
     "output_type": "stream",
     "text": [
      "MoviePy - Done.\n",
      "\tExtracting channel 1 out of 2 channels, 16-bit depth\n",
      "\tExtracting channel 2 out of 2 channels, 16-bit depth\n",
      "\tMixing inverted channel 0 and channel 1\n",
      "\tMixing inverted channel 1 and channel 0\n",
      "Extracting audio from /Users/rkonlechner/Media/scripter/projects/2022-01-20_uos/video/mov/raw/2022-01-19_15h57m04s.mov...\n"
     ]
    },
    {
     "name": "stderr",
     "output_type": "stream",
     "text": [
      "\r"
     ]
    },
    {
     "name": "stdout",
     "output_type": "stream",
     "text": [
      "MoviePy - Writing audio in /Users/rkonlechner/Media/scripter/projects/2022-01-20_uos/audio/wav/2022-01-19_15h57m04s.wav\n"
     ]
    },
    {
     "name": "stderr",
     "output_type": "stream",
     "text": [
      "                                                                                "
     ]
    },
    {
     "name": "stdout",
     "output_type": "stream",
     "text": [
      "MoviePy - Done.\n",
      "\tExtracting channel 1 out of 2 channels, 16-bit depth\n",
      "\tExtracting channel 2 out of 2 channels, 16-bit depth\n",
      "\tMixing inverted channel 0 and channel 1\n",
      "\tMixing inverted channel 1 and channel 0\n",
      "Extracting audio from /Users/rkonlechner/Media/scripter/projects/2022-01-20_uos/video/mov/raw/2022-01-19_15h59m53s.mov...\n"
     ]
    },
    {
     "name": "stderr",
     "output_type": "stream",
     "text": [
      "\r"
     ]
    },
    {
     "name": "stdout",
     "output_type": "stream",
     "text": [
      "MoviePy - Writing audio in /Users/rkonlechner/Media/scripter/projects/2022-01-20_uos/audio/wav/2022-01-19_15h59m53s.wav\n"
     ]
    },
    {
     "name": "stderr",
     "output_type": "stream",
     "text": [
      "                                                                                \r"
     ]
    },
    {
     "name": "stdout",
     "output_type": "stream",
     "text": [
      "MoviePy - Done.\n",
      "\tExtracting channel 1 out of 2 channels, 16-bit depth\n",
      "\tExtracting channel 2 out of 2 channels, 16-bit depth\n",
      "\tMixing inverted channel 0 and channel 1\n",
      "\tMixing inverted channel 1 and channel 0\n",
      "Extracting audio from /Users/rkonlechner/Media/scripter/projects/2022-01-20_uos/video/mov/raw/2022-01-19_16h01m07s.mov...\n",
      "MoviePy - Writing audio in /Users/rkonlechner/Media/scripter/projects/2022-01-20_uos/audio/wav/2022-01-19_16h01m07s.wav\n"
     ]
    },
    {
     "name": "stderr",
     "output_type": "stream",
     "text": [
      "                                                                                "
     ]
    },
    {
     "name": "stdout",
     "output_type": "stream",
     "text": [
      "MoviePy - Done.\n",
      "\tExtracting channel 1 out of 2 channels, 16-bit depth\n",
      "\tExtracting channel 2 out of 2 channels, 16-bit depth\n",
      "\tMixing inverted channel 0 and channel 1\n",
      "\tMixing inverted channel 1 and channel 0\n",
      "Extracting audio from /Users/rkonlechner/Media/scripter/projects/2022-01-20_uos/video/mov/raw/2022-01-19_16h06m03s.mov...\n"
     ]
    },
    {
     "name": "stderr",
     "output_type": "stream",
     "text": [
      "\r"
     ]
    },
    {
     "name": "stdout",
     "output_type": "stream",
     "text": [
      "MoviePy - Writing audio in /Users/rkonlechner/Media/scripter/projects/2022-01-20_uos/audio/wav/2022-01-19_16h06m03s.wav\n"
     ]
    },
    {
     "name": "stderr",
     "output_type": "stream",
     "text": [
      "                                                                                "
     ]
    },
    {
     "name": "stdout",
     "output_type": "stream",
     "text": [
      "MoviePy - Done.\n",
      "\tExtracting channel 1 out of 2 channels, 16-bit depth\n",
      "\tExtracting channel 2 out of 2 channels, 16-bit depth\n",
      "\tMixing inverted channel 0 and channel 1\n",
      "\tMixing inverted channel 1 and channel 0\n",
      "Extracting audio from /Users/rkonlechner/Media/scripter/projects/2022-01-20_uos/video/mov/raw/2022-01-19_16h07m20s.mov...\n"
     ]
    },
    {
     "name": "stderr",
     "output_type": "stream",
     "text": [
      "\r"
     ]
    },
    {
     "name": "stdout",
     "output_type": "stream",
     "text": [
      "MoviePy - Writing audio in /Users/rkonlechner/Media/scripter/projects/2022-01-20_uos/audio/wav/2022-01-19_16h07m20s.wav\n"
     ]
    },
    {
     "name": "stderr",
     "output_type": "stream",
     "text": [
      "                                                                                \r"
     ]
    },
    {
     "name": "stdout",
     "output_type": "stream",
     "text": [
      "MoviePy - Done.\n",
      "\tExtracting channel 1 out of 2 channels, 16-bit depth\n",
      "\tExtracting channel 2 out of 2 channels, 16-bit depth\n",
      "\tMixing inverted channel 0 and channel 1\n",
      "\tMixing inverted channel 1 and channel 0\n",
      "Extracting audio from /Users/rkonlechner/Media/scripter/projects/2022-01-20_uos/video/mov/raw/2022-01-19_17h11m29s.mov...\n",
      "MoviePy - Writing audio in /Users/rkonlechner/Media/scripter/projects/2022-01-20_uos/audio/wav/2022-01-19_17h11m29s.wav\n"
     ]
    },
    {
     "name": "stderr",
     "output_type": "stream",
     "text": [
      "                                                                                "
     ]
    },
    {
     "name": "stdout",
     "output_type": "stream",
     "text": [
      "MoviePy - Done.\n",
      "\tExtracting channel 1 out of 2 channels, 16-bit depth\n",
      "\tExtracting channel 2 out of 2 channels, 16-bit depth\n",
      "\tMixing inverted channel 0 and channel 1\n",
      "\tMixing inverted channel 1 and channel 0\n",
      "Extracting audio from /Users/rkonlechner/Media/scripter/projects/2022-01-20_uos/video/mov/raw/2022-01-19_17h11m50s.mov...\n"
     ]
    },
    {
     "name": "stderr",
     "output_type": "stream",
     "text": [
      "\r"
     ]
    },
    {
     "name": "stdout",
     "output_type": "stream",
     "text": [
      "MoviePy - Writing audio in /Users/rkonlechner/Media/scripter/projects/2022-01-20_uos/audio/wav/2022-01-19_17h11m50s.wav\n"
     ]
    },
    {
     "name": "stderr",
     "output_type": "stream",
     "text": [
      "                                                                                "
     ]
    },
    {
     "name": "stdout",
     "output_type": "stream",
     "text": [
      "MoviePy - Done.\n",
      "\tExtracting channel 1 out of 2 channels, 16-bit depth\n",
      "\tExtracting channel 2 out of 2 channels, 16-bit depth\n",
      "\tMixing inverted channel 0 and channel 1\n",
      "\tMixing inverted channel 1 and channel 0\n",
      "Extracting audio from /Users/rkonlechner/Media/scripter/projects/2022-01-20_uos/video/mov/raw/2022-01-19_17h21m17s.mov...\n"
     ]
    },
    {
     "name": "stderr",
     "output_type": "stream",
     "text": [
      "\r"
     ]
    },
    {
     "name": "stdout",
     "output_type": "stream",
     "text": [
      "MoviePy - Writing audio in /Users/rkonlechner/Media/scripter/projects/2022-01-20_uos/audio/wav/2022-01-19_17h21m17s.wav\n"
     ]
    },
    {
     "name": "stderr",
     "output_type": "stream",
     "text": [
      "                                                                                \r"
     ]
    },
    {
     "name": "stdout",
     "output_type": "stream",
     "text": [
      "MoviePy - Done.\n",
      "\tExtracting channel 1 out of 2 channels, 16-bit depth\n",
      "\tExtracting channel 2 out of 2 channels, 16-bit depth\n",
      "\tMixing inverted channel 0 and channel 1\n",
      "\tMixing inverted channel 1 and channel 0\n",
      "Extracting audio from /Users/rkonlechner/Media/scripter/projects/2022-01-20_uos/video/mov/raw/2022-01-19_17h24m33s.mov...\n",
      "MoviePy - Writing audio in /Users/rkonlechner/Media/scripter/projects/2022-01-20_uos/audio/wav/2022-01-19_17h24m33s.wav\n"
     ]
    },
    {
     "name": "stderr",
     "output_type": "stream",
     "text": [
      "                                                                                "
     ]
    },
    {
     "name": "stdout",
     "output_type": "stream",
     "text": [
      "MoviePy - Done.\n",
      "\tExtracting channel 1 out of 2 channels, 16-bit depth\n",
      "\tExtracting channel 2 out of 2 channels, 16-bit depth\n",
      "\tMixing inverted channel 0 and channel 1\n",
      "\tMixing inverted channel 1 and channel 0\n",
      "Extracting audio from /Users/rkonlechner/Media/scripter/projects/2022-01-20_uos/video/mov/raw/2022-01-19_17h25m08s.mov...\n"
     ]
    },
    {
     "name": "stderr",
     "output_type": "stream",
     "text": [
      "\r"
     ]
    },
    {
     "name": "stdout",
     "output_type": "stream",
     "text": [
      "MoviePy - Writing audio in /Users/rkonlechner/Media/scripter/projects/2022-01-20_uos/audio/wav/2022-01-19_17h25m08s.wav\n"
     ]
    },
    {
     "name": "stderr",
     "output_type": "stream",
     "text": [
      "                                                                                "
     ]
    },
    {
     "name": "stdout",
     "output_type": "stream",
     "text": [
      "MoviePy - Done.\n",
      "\tExtracting channel 1 out of 2 channels, 16-bit depth\n",
      "\tExtracting channel 2 out of 2 channels, 16-bit depth\n",
      "\tMixing inverted channel 0 and channel 1\n",
      "\tMixing inverted channel 1 and channel 0\n",
      "Extracting audio from /Users/rkonlechner/Media/scripter/projects/2022-01-20_uos/video/mov/raw/2022-01-19_17h26m24s.mov...\n"
     ]
    },
    {
     "name": "stderr",
     "output_type": "stream",
     "text": [
      "\r"
     ]
    },
    {
     "name": "stdout",
     "output_type": "stream",
     "text": [
      "MoviePy - Writing audio in /Users/rkonlechner/Media/scripter/projects/2022-01-20_uos/audio/wav/2022-01-19_17h26m24s.wav\n"
     ]
    },
    {
     "name": "stderr",
     "output_type": "stream",
     "text": [
      "                                                                                \r"
     ]
    },
    {
     "name": "stdout",
     "output_type": "stream",
     "text": [
      "MoviePy - Done.\n",
      "\tExtracting channel 1 out of 2 channels, 16-bit depth\n",
      "\tExtracting channel 2 out of 2 channels, 16-bit depth\n",
      "\tMixing inverted channel 0 and channel 1\n",
      "\tMixing inverted channel 1 and channel 0\n",
      "Extracting audio from /Users/rkonlechner/Media/scripter/projects/2022-01-20_uos/video/mov/raw/2022-01-19_17h27m02s.mov...\n",
      "MoviePy - Writing audio in /Users/rkonlechner/Media/scripter/projects/2022-01-20_uos/audio/wav/2022-01-19_17h27m02s.wav\n"
     ]
    },
    {
     "name": "stderr",
     "output_type": "stream",
     "text": [
      "                                                                                "
     ]
    },
    {
     "name": "stdout",
     "output_type": "stream",
     "text": [
      "MoviePy - Done.\n",
      "\tExtracting channel 1 out of 2 channels, 16-bit depth\n",
      "\tExtracting channel 2 out of 2 channels, 16-bit depth\n",
      "\tMixing inverted channel 0 and channel 1\n",
      "\tMixing inverted channel 1 and channel 0\n",
      "Extracting audio from /Users/rkonlechner/Media/scripter/projects/2022-01-20_uos/video/mov/raw/2022-01-19_17h33m09s.mov...\n"
     ]
    },
    {
     "name": "stderr",
     "output_type": "stream",
     "text": [
      "\r"
     ]
    },
    {
     "name": "stdout",
     "output_type": "stream",
     "text": [
      "MoviePy - Writing audio in /Users/rkonlechner/Media/scripter/projects/2022-01-20_uos/audio/wav/2022-01-19_17h33m09s.wav\n"
     ]
    },
    {
     "name": "stderr",
     "output_type": "stream",
     "text": [
      "                                                                                "
     ]
    },
    {
     "name": "stdout",
     "output_type": "stream",
     "text": [
      "MoviePy - Done.\n",
      "\tExtracting channel 1 out of 2 channels, 16-bit depth\n",
      "\tExtracting channel 2 out of 2 channels, 16-bit depth\n",
      "\tMixing inverted channel 0 and channel 1\n",
      "\tMixing inverted channel 1 and channel 0\n",
      "Extracting audio from /Users/rkonlechner/Media/scripter/projects/2022-01-20_uos/video/mov/raw/2022-01-20_18h19m54s.mov...\n"
     ]
    },
    {
     "name": "stderr",
     "output_type": "stream",
     "text": [
      "\r"
     ]
    },
    {
     "name": "stdout",
     "output_type": "stream",
     "text": [
      "MoviePy - Writing audio in /Users/rkonlechner/Media/scripter/projects/2022-01-20_uos/audio/wav/2022-01-20_18h19m54s.wav\n"
     ]
    },
    {
     "name": "stderr",
     "output_type": "stream",
     "text": [
      "                                                                                "
     ]
    },
    {
     "name": "stdout",
     "output_type": "stream",
     "text": [
      "MoviePy - Done.\n",
      "\tExtracting channel 1 out of 2 channels, 16-bit depth\n",
      "\tExtracting channel 2 out of 2 channels, 16-bit depth\n",
      "\tMixing inverted channel 0 and channel 1\n",
      "\tMixing inverted channel 1 and channel 0\n"
     ]
    },
    {
     "name": "stderr",
     "output_type": "stream",
     "text": [
      "\r"
     ]
    }
   ],
   "source": [
    "proj_tree = io_utils.ProjectTree('../projects/')\n",
    "\n",
    "for project in proj_tree.get_projects():\n",
    "    video_src = project.get_media('video/mov/raw')\n",
    "    audio_dst = project.make_media('audio/wav')\n",
    "        \n",
    "    for video_src_path, file_name in zip(video_src.get_file_paths(), video_src.get_file_names()):\n",
    "        print('Extracting audio from ' + video_src_path + '...')\n",
    "        \n",
    "        clip = mp.VideoFileClip(video_src_path)\n",
    "        clip.audio.write_audiofile(audio_dst.get_root() + '/' + file_name + '.wav', codec='pcm_s16le')\n",
    "        \n",
    "        # channel separation code from\n",
    "        # https://stackoverflow.com/questions/51275725/how-do-you-separate-each-channel-of-a-two-channel-wav-file-into-two-different-fi\n",
    "        wav = wave.open(audio_dst.get_root() + '/' + file_name + '.wav', 'r')\n",
    "        nch = wav.getnchannels()\n",
    "        depth = wav.getsampwidth()\n",
    "        wav.setpos(0)\n",
    "        sdata = wav.readframes(wav.getnframes())\n",
    "\n",
    "        typ = { 1: np.int8, 2: np.int16, 4: np.int32 }.get(depth)\n",
    "        if not typ:\n",
    "            raise ValueError(\"sample width {} not supported\".format(depth))\n",
    "            \n",
    "        data = np.frombuffer(sdata, dtype=typ)\n",
    "        channels_data = [data[raw_channel::nch] for raw_channel in range(nch)]\n",
    "        raw_audio_channels_dst = [audio_dst.make_media('raw/ch{}'.format(raw_channel)) for raw_channel in range(nch)]\n",
    "        \n",
    "        for channel, (channel_data, raw_audio_channel_dst) in enumerate(zip(channels_data, raw_audio_channels_dst)):\n",
    "            print(\"\\tExtracting channel {} out of {} channels, {}-bit depth\".format(channel+1, nch, depth*8))\n",
    "            \n",
    "            outwav = wave.open(raw_audio_channel_dst.get_root() + '/' + file_name + '.wav', 'w')\n",
    "            outwav.setparams(wav.getparams())\n",
    "            outwav.setnchannels(1)\n",
    "            outwav.writeframes(channel_data.tostring())\n",
    "            outwav.close()\n",
    "            \n",
    "        #mixing channels\n",
    "        mix_audio_channels_dst = [audio_dst.make_media(mix_channel) for mix_channel in ['mix/ch0_inv_ch1_added', 'mix/ch1_inv_ch0_added']]\n",
    "        \n",
    "        for inv_channel, (channel_data, mix_audio_channel_dst) in enumerate(zip(channels_data, mix_audio_channels_dst)):\n",
    "            print(\"\\tMixing inverted channel {} and channel {}\".format(inv_channel, (inv_channel+1)%2))\n",
    "                  \n",
    "            mixed_audio = np.add((-1)*channels_data[inv_channel], channels_data[(inv_channel+1)%2])\n",
    "            \n",
    "            outwav = wave.open(mix_audio_channel_dst.get_root() + '/' + file_name + '.wav', 'w')\n",
    "            outwav.setparams(wav.getparams())\n",
    "            outwav.setnchannels(1)\n",
    "            outwav.writeframes(mixed_audio.tostring())\n",
    "            outwav.close()\n",
    "            \n",
    "        #remove extracted audio, only save separated channels\n",
    "        os.remove(audio_dst.get_root() + '/' + file_name + '.wav')"
   ]
  }
 ],
 "metadata": {
  "kernelspec": {
   "display_name": "Python 3 (ipykernel)",
   "language": "python",
   "name": "python3"
  },
  "language_info": {
   "codemirror_mode": {
    "name": "ipython",
    "version": 3
   },
   "file_extension": ".py",
   "mimetype": "text/x-python",
   "name": "python",
   "nbconvert_exporter": "python",
   "pygments_lexer": "ipython3",
   "version": "3.9.13"
  }
 },
 "nbformat": 4,
 "nbformat_minor": 5
}

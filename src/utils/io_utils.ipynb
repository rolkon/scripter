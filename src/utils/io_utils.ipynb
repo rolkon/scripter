{
 "cells": [
  {
   "cell_type": "code",
   "execution_count": 59,
   "id": "c75a3428-d5bd-419f-a61d-121f27677b02",
   "metadata": {},
   "outputs": [],
   "source": [
    "import numpy as np"
   ]
  },
  {
   "cell_type": "code",
   "execution_count": 93,
   "id": "680482d0-d2c1-49ed-b1e2-0e76766081f8",
   "metadata": {},
   "outputs": [
    {
     "name": "stdout",
     "output_type": "stream",
     "text": [
      "Overwriting io_utils.py\n"
     ]
    }
   ],
   "source": [
    "%%writefile io_utils.py\n",
    "import os\n",
    "\n",
    "media_types = {'image': ['jpg', 'raf'], 'audio':['wav'], 'video':['mov', 'mp4']}\n",
    "\n",
    "class ProjectTree:\n",
    "    '''\n",
    "    Holds all information about the project filetrees, starting from root.\n",
    "    Provides functions for easy access and search of files\n",
    "    '''\n",
    "    \n",
    "    def __init__(self, root):\n",
    "        self._root = os.path.abspath(root)\n",
    "        self._name = os.path.basename(self._root)\n",
    "        self._subtrees = []\n",
    "        self._file_paths = []\n",
    "        \n",
    "        self.update_tree()\n",
    "                    \n",
    "    def update_tree(self):\n",
    "        self._subtrees = []\n",
    "        self._file_paths = []\n",
    "        for elem in sorted(os.listdir(self._root)):\n",
    "            if os.path.isdir(self._root + '/' + elem):\n",
    "                self._subtrees.append(ProjectTree(self._root + '/' + elem))\n",
    "            else:\n",
    "                if elem != '.DS_Store':\n",
    "                    self._file_paths.append(self._root + '/' + elem)\n",
    "        \n",
    "    def get_name(self):\n",
    "        return self._name\n",
    "    \n",
    "    def get_subtrees(self):\n",
    "        return self._subtrees\n",
    "    \n",
    "    def get_file_paths(self):\n",
    "        return self._file_paths\n",
    "    \n",
    "    def get_projects(self):\n",
    "        if self._name == 'projects':\n",
    "            return self._subtrees\n",
    "        return None\n",
    "        \n",
    "    def get_media(self, media_type):\n",
    "        media_subtypes = media_type.split('/', maxsplit=1)\n",
    "        for subtree in self._subtrees:\n",
    "            if subtree.get_name() == media_subtypes[0]:\n",
    "                if len(media_subtypes) > 1:\n",
    "                    return subtree.get_media(media_subtypes[1])\n",
    "                else:\n",
    "                    return subtree\n",
    "        if len(media_subtypes) > 1 or self._name != media_subtypes[0]:\n",
    "            return None\n",
    "        else:\n",
    "            return self._file_paths\n",
    "        \n",
    "    def make_dir(self, name):\n",
    "        full_path = self._root + '/' + name\n",
    "        \n",
    "        if not os.path.exists(full_path):\n",
    "            os.makedirs(full_path)\n",
    "            \n",
    "        self.update_tree()\n",
    "        return full_path\n",
    "    \n",
    "    def print_filetree(self, level=0):\n",
    "        print('\\t' * level + self._name + ':')\n",
    "        for subdir in self._subtrees:\n",
    "            subdir.print_filetree(level+1)\n",
    "            \n",
    "        for filepath in self._file_paths:\n",
    "            print('\\t' * (level+1) + filepath)"
   ]
  },
  {
   "cell_type": "code",
   "execution_count": 79,
   "id": "32d9de9c-d1b5-4d2b-b6e5-dfa4c4fe1d1f",
   "metadata": {},
   "outputs": [],
   "source": [
    "ft = ProjectTree('../../projects/')"
   ]
  },
  {
   "cell_type": "code",
   "execution_count": 81,
   "id": "8952677c-1e19-4680-b547-a1ce9ba8eb93",
   "metadata": {},
   "outputs": [],
   "source": [
    "media_type = 'image'\n",
    "\n",
    "os.makedirs('../../projects/test/test1/test2')\n",
    "\n",
    "for project in ft.get_projects():\n",
    "    media = project.get_media(media_type)\n",
    "    "
   ]
  }
 ],
 "metadata": {
  "kernelspec": {
   "display_name": "Python 3 (ipykernel)",
   "language": "python",
   "name": "python3"
  },
  "language_info": {
   "codemirror_mode": {
    "name": "ipython",
    "version": 3
   },
   "file_extension": ".py",
   "mimetype": "text/x-python",
   "name": "python",
   "nbconvert_exporter": "python",
   "pygments_lexer": "ipython3",
   "version": "3.9.13"
  }
 },
 "nbformat": 4,
 "nbformat_minor": 5
}

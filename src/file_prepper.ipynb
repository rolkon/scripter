{
 "cells": [
  {
   "cell_type": "markdown",
   "id": "3cce7338-ea0e-4d84-8179-2d1420b23f7d",
   "metadata": {},
   "source": [
    "# File prepper\n",
    "\n",
    "First script to call. Crawls all added project folders, renames all files according to the `YYYY-MM-DD_HH_MM_SS` format and moves them to the respective folders"
   ]
  },
  {
   "cell_type": "code",
   "execution_count": null,
   "id": "177fc00c-e617-418b-8b4f-3184256c4de4",
   "metadata": {},
   "outputs": [],
   "source": [
    "import shutil\n",
    "from datetime import datetime\n",
    "import os\n",
    "\n",
    "from utils import io_utils\n",
    "from utils.io_utils import media_types as media_types"
   ]
  },
  {
   "cell_type": "code",
   "execution_count": null,
   "id": "3b641b66-ee27-427f-8979-9ba484b48064",
   "metadata": {
    "scrolled": true,
    "tags": []
   },
   "outputs": [],
   "source": [
    "proj_tree = io_utils.ProjectTree('../projects/')\n",
    "\n",
    "for project in proj_tree.get_projects():\n",
    "    for media_type in media_types.keys():\n",
    "        for file_type in media_types[media_type]:\n",
    "            file_dir = media_type + '/' + file_type + '/raw'\n",
    "            proj_file_paths = [file_path for file_path in project.get_file_paths() if file_type in str.lower(file_path)]\n",
    "            \n",
    "            if len(proj_file_paths) > 0:\n",
    "                project.make_dir(file_dir)\n",
    "                full_file_dir = project.get_media(file_dir).get_root()\n",
    "                \n",
    "            for proj_file_path in proj_file_paths:\n",
    "                t_created = os.stat(proj_file_path).st_birthtime\n",
    "                t_created = datetime.fromtimestamp(t_created)\n",
    "                date = str(t_created.date())\n",
    "                hour = str(t_created.hour).zfill(2) + 'h'\n",
    "                minute = str(t_created.minute).zfill(2) + 'm'\n",
    "                second = str(t_created.second).zfill(2) + 's'\n",
    "                fname_new = date + '_' + hour + minute + second + '.' + file_type\n",
    "                \n",
    "                shutil.move(proj_file_path, full_file_dir + '/' + fname_new)"
   ]
  }
 ],
 "metadata": {
  "kernelspec": {
   "display_name": "Python 3",
   "language": "python",
   "name": "python3"
  },
  "language_info": {
   "codemirror_mode": {
    "name": "ipython",
    "version": 3
   },
   "file_extension": ".py",
   "mimetype": "text/x-python",
   "name": "python",
   "nbconvert_exporter": "python",
   "pygments_lexer": "ipython3",
   "version": "3.6.12"
  }
 },
 "nbformat": 4,
 "nbformat_minor": 5
}
